{
 "cells": [
  {
   "cell_type": "markdown",
   "metadata": {
    "tags": []
   },
   "source": [
    "# Data\n",
    "The original dataset consists of sales numbers of video games until 2016 webscraped from the website [VGchartz](https://bit.ly/3rmrGlt) by [Gregory Smithy](https://www.kaggle.com/gregorut)  and was further expanded with data about critics numbers webscraped from [Metacritics](https://bit.ly/3ts9V6J) by [Rush Kirubi](https://www.kaggle.com/rush4ratio). <br>\n",
    "The dataset itself is from [kaggle](https://www.kaggle.com/rush4ratio/video-game-sales-with-ratings) and has following fields: <br>\n",
    "\n",
    "| field        | description \n",
    "| -----------  | ------ \n",
    "| Rank         | Ranking of overall sales \n",
    "| Name         | The games name \n",
    "| Platform     | Platform of the games release (i.e. PC,PS4, etc.) \n",
    "| Year_of_Release| Year of the game's release \n",
    "| Genre        | Genre of the game \n",
    "| Publisher    | Publisher of the game \n",
    "| NA_Sales     | Sales in North America (in millions) |\n",
    "| EU_Sales     | Sales in Europe (in millions) |\n",
    "| JP_Sales     | Sales in Japan (in millions) |\n",
    "| Other_Sales  | Sales in the rest of the world (in millions) |\n",
    "| Global_Sales | Total worldwide sales. |\n",
    "| Critic_Score | Aggregate score compiled by Metacritic staff |\n",
    "| Critic_Count | The number of critics used in coming up with the Criticscore |\n",
    "| User_Score | Score by Metacritic's subscribers |\n",
    "| User_Count | Number of users who gave the userscore |\n",
    "| Developer | Party responsible for creating the game |\n",
    "| Rating | The [ESRB](https://www.esrb.org/) ratings: A rating for age recommendations |"
   ]
  },
  {
   "cell_type": "markdown",
   "metadata": {
    "tags": []
   },
   "source": [
    "# Imports"
   ]
  },
  {
   "cell_type": "code",
   "execution_count": 1,
   "metadata": {},
   "outputs": [],
   "source": [
    "#disable some annoying warnings\n",
    "import warnings\n",
    "warnings.filterwarnings('ignore', category=FutureWarning)\n",
    "\n",
    "#plots the figures in place instead of a new window\n",
    "%matplotlib inline\n",
    "\n",
    "import pandas as pd\n",
    "import numpy as np\n",
    "\n",
    "import altair as alt\n",
    "from altair_data_server import data_server\n",
    "\n",
    "import ipywidgets as widgets"
   ]
  },
  {
   "cell_type": "markdown",
   "metadata": {},
   "source": [
    "# Load Data\n",
    "Following 2 cells load the dataset and clean it. Since only the features regarding the critic-scores are missing values, we use the uncleaned dataset(data) for graphs regarding sales and the cleaned version (c_data) for graphs regarding critic scores."
   ]
  },
  {
   "cell_type": "code",
   "execution_count": 2,
   "metadata": {},
   "outputs": [
    {
     "name": "stdout",
     "output_type": "stream",
     "text": [
      "The dataset has 16719 entries\n"
     ]
    }
   ],
   "source": [
    "# we load the Video_Game_Sales dataset with data_server, to process the large amount of data\n",
    "alt.data_transformers.enable('data_server')\n",
    "data = pd.read_csv('data/Video_Games_Sales_as_at_22_Dec_2016.csv')\n",
    "original_len = len(data)\n",
    "print(f'The dataset has {len(data)} entries')"
   ]
  },
  {
   "cell_type": "markdown",
   "metadata": {},
   "source": [
    "# Clean Data"
   ]
  },
  {
   "cell_type": "code",
   "execution_count": 3,
   "metadata": {},
   "outputs": [
    {
     "name": "stdout",
     "output_type": "stream",
     "text": [
      "The dataset has 16446 entries, dropped 273.\n",
      "The cleaned dataset has 9766 entries, dropped 6953.\n"
     ]
    },
    {
     "name": "stderr",
     "output_type": "stream",
     "text": [
      "/tmp/ipykernel_11907/1249799491.py:5: SettingWithCopyWarning: \n",
      "A value is trying to be set on a copy of a slice from a DataFrame\n",
      "\n",
      "See the caveats in the documentation: https://pandas.pydata.org/pandas-docs/stable/user_guide/indexing.html#returning-a-view-versus-a-copy\n",
      "  data.User_Score[data.User_Score == \"tbd\"] = np.nan\n"
     ]
    }
   ],
   "source": [
    "# drop entries with invalid entries for Year of release\n",
    "data = data.drop(data[data.Year_of_Release > 2016].index)\n",
    "data = data.drop(data[data.Year_of_Release.isnull()].index)\n",
    "# since some string values landed in User_Score, replace them with nan\n",
    "data.User_Score[data.User_Score == \"tbd\"] = np.nan\n",
    "data['User_Score'] = pd.to_numeric(data['User_Score'], downcast=\"float\")\n",
    "#fill in NaN values with average for User_Score, Critic_Score\n",
    "data.User_Score.fillna(value=np.around(data.User_Score.median(),2), inplace=True)\n",
    "data.Critic_Score.fillna(value=np.around(data.Critic_Score.median(),2), inplace=True)\n",
    "data.User_Count.fillna(np.around(data.User_Count.median(),2), inplace=True)\n",
    "data.Critic_Count.fillna(np.around(data.Critic_Count.median(),2), inplace=True)\n",
    "#data.Developer.fillna(value=\"nan\", inplace=True)\n",
    "#data.Publisher.fillna(value=\"nan\", inplace=True)\n",
    "#data.Rating.fillna(value=\"Nan\", inplace=True)\n",
    "#data.User_Score.fillna(value=data.User_Score.mean(), inplace=True)\n",
    "# clean up data\n",
    "c_data = data.copy()\n",
    "c_data = c_data.dropna()\n",
    "# User_Score's datatype is object, but we want it to be float!\n",
    "# --> clean User_Score\n",
    "\n",
    "print(f'The dataset has {len(data)} entries, dropped {original_len-len(data)}.')\n",
    "print(f'The cleaned dataset has {len(c_data)} entries, dropped {original_len-len(c_data)}.')"
   ]
  },
  {
   "cell_type": "markdown",
   "metadata": {
    "tags": []
   },
   "source": [
    "# Histograms\n",
    "To look at the distribution of the data in respect to each feature, following histograms can be printed:"
   ]
  },
  {
   "cell_type": "code",
   "execution_count": 4,
   "metadata": {
    "tags": []
   },
   "outputs": [
    {
     "data": {
      "application/vnd.jupyter.widget-view+json": {
       "model_id": "fcd81802260041edba07e5fe74b91516",
       "version_major": 2,
       "version_minor": 0
      },
      "text/plain": [
       "interactive(children=(Dropdown(description='x', options=('Platform:N', 'Year_of_Release:O', 'Genre:N', 'Global…"
      ]
     },
     "metadata": {},
     "output_type": "display_data"
    }
   ],
   "source": [
    "@widgets.interact(x = [\"Platform:N\", \"Year_of_Release:O\", 'Genre:N', \"Global_Sales:Q\", \"NA_Sales:Q\", \"EU_Sales:Q\", \"JP_Sales:Q\", \"Other_Sales:Q\",\n",
    "                      \"Rating:N\", \"Critic_Score:Q\", \"User_Score:Q\", \"Critic_Count:Q\", \"User_Count:Q\"], \n",
    "                  to_bin=[False, True],\n",
    "                  scale=[\"linear\", \"log\"],\n",
    "                  bin_size = widgets.IntSlider())\n",
    "def show_plot(x, to_bin, scale, bin_size):\n",
    "    # You have to return the chart to make it visible.\n",
    "    return alt.Chart(data).mark_bar().encode(\n",
    "    alt.X(x, bin=alt.Bin(step=bin_size) if to_bin else False),\n",
    "    alt.Y('count()', scale=alt.Scale(type=scale))\n",
    "    ).properties(title=f\"Histogramm of {x[:-2]}\").interactive()"
   ]
  },
  {
   "attachments": {
    "2cc2e3b6-cad3-4862-88c1-66280efb0328.png": {
     "image/png": "[encoded data removed]"
    },
    "54548596-aaa2-4934-8fc8-7dcd9d55763a.png": {
     "image/png": "[encoded data removed]"
    },
    "5b0c1606-3bfc-48a3-9651-8ad99c2d89e5.png": {
     "image/png": "[encoded data removed]"
    },
    "6eb594fb-43bf-4f1d-915e-2733ca7c8938.png": {
     "image/png": "[encoded data removed]"
    },
    "809d7def-52b6-492e-9870-64201d70f22a.png": {
     "image/png": "[encoded data removed]"
    },
    "ce9689d6-ac20-442e-909b-74ac07f0d84a.png": {
     "image/png": "[encoded data removed]"
    }
   },
   "cell_type": "markdown",
   "metadata": {
    "tags": []
   },
   "source": [
    "Looking at the histograms, all features are mostly skewed. <br>\n",
    "**_Sales**: \n",
    "Especially the features concerning the sales are heavily scewed, indicating that we have a few games that are sold very often (10-30 million), while most games are sold between 0-1 million times. <br>\n",
    "**Platform:** The most dominant platform is PS2 and DS regarding games count, while \"old-gen\" consoles like PS3, Wii, X360 take the middle-field. Old platforms like the N64, NES and new ones like the PS4 and the XOne have few counts. <br>\n",
    "**Year of Release**: Most games were released in the year from 2002 to 2011. <br>\n",
    "**Genre**: The most commmon genre by far are action and Sports, while the other genre are more equal distributed. Only puzzle and strategy are not that common. <br>\n",
    "**Rating**: For rating there are nearly a half missing values, the most common one are E(everyone) and T(teen). <br>\n",
    "**_Score and _Count**: The most common value is the median, hence we introduced quite a bias for the histogramm. This is because of a lot of missing values for these features and the reason why we will use the \"c_data\" dataset for plots that focus on these features. <br>\n",
    "![hist_year.png](attachment:5b0c1606-3bfc-48a3-9651-8ad99c2d89e5.png)![hist_score.png](attachment:809d7def-52b6-492e-9870-64201d70f22a.png)![hist_sales.png](attachment:ce9689d6-ac20-442e-909b-74ac07f0d84a.png)![hist_rating.png](attachment:2cc2e3b6-cad3-4862-88c1-66280efb0328.png)![hist_platform.png](attachment:54548596-aaa2-4934-8fc8-7dcd9d55763a.png)![hist_genre.png](attachment:6eb594fb-43bf-4f1d-915e-2733ca7c8938.png)"
   ]
  },
  {
   "cell_type": "code",
   "execution_count": 5,
   "metadata": {},
   "outputs": [
    {
     "data": {
      "text/html": [
       "\n",
       "<div id=\"altair-viz-5fd7cee819e644b0b5dada0621dc0509\"></div>\n",
       "<script type=\"text/javascript\">\n",
       "  (function(spec, embedOpt){\n",
       "    let outputDiv = document.currentScript.previousElementSibling;\n",
       "    if (outputDiv.id !== \"altair-viz-5fd7cee819e644b0b5dada0621dc0509\") {\n",
       "      outputDiv = document.getElementById(\"altair-viz-5fd7cee819e644b0b5dada0621dc0509\");\n",
       "    }\n",
       "    const paths = {\n",
       "      \"vega\": \"https://cdn.jsdelivr.net/npm//vega@5?noext\",\n",
       "      \"vega-lib\": \"https://cdn.jsdelivr.net/npm//vega-lib?noext\",\n",
       "      \"vega-lite\": \"https://cdn.jsdelivr.net/npm//vega-lite@4.8.1?noext\",\n",
       "      \"vega-embed\": \"https://cdn.jsdelivr.net/npm//vega-embed@6?noext\",\n",
       "    };\n",
       "\n",
       "    function loadScript(lib) {\n",
       "      return new Promise(function(resolve, reject) {\n",
       "        var s = document.createElement('script');\n",
       "        s.src = paths[lib];\n",
       "        s.async = true;\n",
       "        s.onload = () => resolve(paths[lib]);\n",
       "        s.onerror = () => reject(`Error loading script: ${paths[lib]}`);\n",
       "        document.getElementsByTagName(\"head\")[0].appendChild(s);\n",
       "      });\n",
       "    }\n",
       "\n",
       "    function showError(err) {\n",
       "      outputDiv.innerHTML = `<div class=\"error\" style=\"color:red;\">${err}</div>`;\n",
       "      throw err;\n",
       "    }\n",
       "\n",
       "    function displayChart(vegaEmbed) {\n",
       "      vegaEmbed(outputDiv, spec, embedOpt)\n",
       "        .catch(err => showError(`Javascript Error: ${err.message}<br>This usually means there's a typo in your chart specification. See the javascript console for the full traceback.`));\n",
       "    }\n",
       "\n",
       "    if(typeof define === \"function\" && define.amd) {\n",
       "      requirejs.config({paths});\n",
       "      require([\"vega-embed\"], displayChart, err => showError(`Error loading script: ${err.message}`));\n",
       "    } else if (typeof vegaEmbed === \"function\") {\n",
       "      displayChart(vegaEmbed);\n",
       "    } else {\n",
       "      loadScript(\"vega\")\n",
       "        .then(() => loadScript(\"vega-lite\"))\n",
       "        .then(() => loadScript(\"vega-embed\"))\n",
       "        .catch(showError)\n",
       "        .then(() => displayChart(vegaEmbed));\n",
       "    }\n",
       "  })({\"config\": {\"view\": {\"continuousWidth\": 400, \"continuousHeight\": 300}, \"title\": {\"anchor\": \"start\"}}, \"data\": {\"url\": \"http://localhost:17950/fa635910c110548266abb3b30976dd90.json\"}, \"mark\": {\"type\": \"bar\", \"width\": 20}, \"encoding\": {\"x\": {\"type\": \"nominal\", \"bin\": false, \"field\": \"Publisher\", \"sort\": \"-y\"}, \"y\": {\"type\": \"quantitative\", \"aggregate\": \"count\", \"scale\": {\"type\": \"linear\"}}}, \"title\": \"Histogramm of Publisher\", \"width\": {\"step\": 25}, \"$schema\": \"https://vega.github.io/schema/vega-lite/v4.8.1.json\"}, {\"mode\": \"vega-lite\"});\n",
       "</script>"
      ],
      "text/plain": [
       "alt.Chart(...)"
      ]
     },
     "execution_count": 5,
     "metadata": {},
     "output_type": "execute_result"
    }
   ],
   "source": [
    "alt.Chart(data).mark_bar(width=20).encode(\n",
    "    alt.Y('count()', scale=alt.Scale(type='linear')),\n",
    "    alt.X(\"Publisher:N\", bin=False, sort= '-y'),\n",
    ").properties(width=alt.Step(25), title=\"Histogramm of Publisher\").configure_title(anchor=\"start\")"
   ]
  },
  {
   "cell_type": "markdown",
   "metadata": {
    "tags": []
   },
   "source": [
    "**Publisher**: Again the distribution is heavily skewed, with a few well-known names in the industrie at the top."
   ]
  },
  {
   "cell_type": "code",
   "execution_count": 6,
   "metadata": {},
   "outputs": [
    {
     "data": {
      "text/html": [
       "\n",
       "<div id=\"altair-viz-9ed365cf3ded42d8ab51c9b6d3509169\"></div>\n",
       "<script type=\"text/javascript\">\n",
       "  (function(spec, embedOpt){\n",
       "    let outputDiv = document.currentScript.previousElementSibling;\n",
       "    if (outputDiv.id !== \"altair-viz-9ed365cf3ded42d8ab51c9b6d3509169\") {\n",
       "      outputDiv = document.getElementById(\"altair-viz-9ed365cf3ded42d8ab51c9b6d3509169\");\n",
       "    }\n",
       "    const paths = {\n",
       "      \"vega\": \"https://cdn.jsdelivr.net/npm//vega@5?noext\",\n",
       "      \"vega-lib\": \"https://cdn.jsdelivr.net/npm//vega-lib?noext\",\n",
       "      \"vega-lite\": \"https://cdn.jsdelivr.net/npm//vega-lite@4.8.1?noext\",\n",
       "      \"vega-embed\": \"https://cdn.jsdelivr.net/npm//vega-embed@6?noext\",\n",
       "    };\n",
       "\n",
       "    function loadScript(lib) {\n",
       "      return new Promise(function(resolve, reject) {\n",
       "        var s = document.createElement('script');\n",
       "        s.src = paths[lib];\n",
       "        s.async = true;\n",
       "        s.onload = () => resolve(paths[lib]);\n",
       "        s.onerror = () => reject(`Error loading script: ${paths[lib]}`);\n",
       "        document.getElementsByTagName(\"head\")[0].appendChild(s);\n",
       "      });\n",
       "    }\n",
       "\n",
       "    function showError(err) {\n",
       "      outputDiv.innerHTML = `<div class=\"error\" style=\"color:red;\">${err}</div>`;\n",
       "      throw err;\n",
       "    }\n",
       "\n",
       "    function displayChart(vegaEmbed) {\n",
       "      vegaEmbed(outputDiv, spec, embedOpt)\n",
       "        .catch(err => showError(`Javascript Error: ${err.message}<br>This usually means there's a typo in your chart specification. See the javascript console for the full traceback.`));\n",
       "    }\n",
       "\n",
       "    if(typeof define === \"function\" && define.amd) {\n",
       "      requirejs.config({paths});\n",
       "      require([\"vega-embed\"], displayChart, err => showError(`Error loading script: ${err.message}`));\n",
       "    } else if (typeof vegaEmbed === \"function\") {\n",
       "      displayChart(vegaEmbed);\n",
       "    } else {\n",
       "      loadScript(\"vega\")\n",
       "        .then(() => loadScript(\"vega-lite\"))\n",
       "        .then(() => loadScript(\"vega-embed\"))\n",
       "        .catch(showError)\n",
       "        .then(() => displayChart(vegaEmbed));\n",
       "    }\n",
       "  })({\"config\": {\"view\": {\"continuousWidth\": 400, \"continuousHeight\": 300}, \"title\": {\"anchor\": \"start\"}}, \"data\": {\"url\": \"http://localhost:17950/94e11d3285a3267b24ab50d46d4a36d7.json\"}, \"mark\": {\"type\": \"bar\", \"width\": 20}, \"encoding\": {\"x\": {\"type\": \"nominal\", \"bin\": false, \"field\": \"0\", \"sort\": \"-y\", \"title\": \"Developer\"}, \"y\": {\"type\": \"quantitative\", \"field\": \"1\", \"scale\": {\"type\": \"linear\"}, \"title\": \"Count of Records\"}}, \"title\": \"Histogramm of Developer\", \"width\": {\"step\": 25}, \"$schema\": \"https://vega.github.io/schema/vega-lite/v4.8.1.json\"}, {\"mode\": \"vega-lite\"});\n",
       "</script>"
      ],
      "text/plain": [
       "alt.Chart(...)"
      ]
     },
     "execution_count": 6,
     "metadata": {},
     "output_type": "execute_result"
    }
   ],
   "source": [
    "uniq = c_data.Developer.unique()\n",
    "c = []\n",
    "for u in uniq:\n",
    "    c.append((u, c_data.Developer[c_data.Developer == u].count()))\n",
    "c_df = pd.DataFrame(c).sort_values(1, ascending=False)\n",
    "alt.Chart(c_df[:100]).mark_bar(width=20).encode(\n",
    "    alt.Y('1:Q', scale=alt.Scale(type='linear'), title= \"Count of Records\"),\n",
    "    alt.X(\"0:N\", bin=False, sort= '-y', title= \"Developer\"),\n",
    ").properties(width=alt.Step(25), title=\"Histogramm of Developer\").configure_title(anchor=\"start\")"
   ]
  },
  {
   "cell_type": "markdown",
   "metadata": {
    "tags": []
   },
   "source": [
    "**Developer**: For the developer it is the same as for the publisher, but the distribution doesn't drop down to nearly zero as fast compared to the publisher. One reason could be that most publisher have multiple developer working for them. For example take the publisher Electronic Arts, who has 4 different developer teams (EA Sports, EA Canada, EA Tiburon, Electronic Arts,..) as in-house developer."
   ]
  },
  {
   "cell_type": "markdown",
   "metadata": {
    "tags": []
   },
   "source": [
    "# Sales overview\n",
    "Get a overview of the sales, especially how the global sales is spread over the years and which platform/games are most sold."
   ]
  },
  {
   "cell_type": "code",
   "execution_count": 7,
   "metadata": {},
   "outputs": [
    {
     "data": {
      "text/html": [
       "\n",
       "<div id=\"altair-viz-8514c6acd64b4a628909a0e1b52f3590\"></div>\n",
       "<script type=\"text/javascript\">\n",
       "  (function(spec, embedOpt){\n",
       "    let outputDiv = document.currentScript.previousElementSibling;\n",
       "    if (outputDiv.id !== \"altair-viz-8514c6acd64b4a628909a0e1b52f3590\") {\n",
       "      outputDiv = document.getElementById(\"altair-viz-8514c6acd64b4a628909a0e1b52f3590\");\n",
       "    }\n",
       "    const paths = {\n",
       "      \"vega\": \"https://cdn.jsdelivr.net/npm//vega@5?noext\",\n",
       "      \"vega-lib\": \"https://cdn.jsdelivr.net/npm//vega-lib?noext\",\n",
       "      \"vega-lite\": \"https://cdn.jsdelivr.net/npm//vega-lite@4.8.1?noext\",\n",
       "      \"vega-embed\": \"https://cdn.jsdelivr.net/npm//vega-embed@6?noext\",\n",
       "    };\n",
       "\n",
       "    function loadScript(lib) {\n",
       "      return new Promise(function(resolve, reject) {\n",
       "        var s = document.createElement('script');\n",
       "        s.src = paths[lib];\n",
       "        s.async = true;\n",
       "        s.onload = () => resolve(paths[lib]);\n",
       "        s.onerror = () => reject(`Error loading script: ${paths[lib]}`);\n",
       "        document.getElementsByTagName(\"head\")[0].appendChild(s);\n",
       "      });\n",
       "    }\n",
       "\n",
       "    function showError(err) {\n",
       "      outputDiv.innerHTML = `<div class=\"error\" style=\"color:red;\">${err}</div>`;\n",
       "      throw err;\n",
       "    }\n",
       "\n",
       "    function displayChart(vegaEmbed) {\n",
       "      vegaEmbed(outputDiv, spec, embedOpt)\n",
       "        .catch(err => showError(`Javascript Error: ${err.message}<br>This usually means there's a typo in your chart specification. See the javascript console for the full traceback.`));\n",
       "    }\n",
       "\n",
       "    if(typeof define === \"function\" && define.amd) {\n",
       "      requirejs.config({paths});\n",
       "      require([\"vega-embed\"], displayChart, err => showError(`Error loading script: ${err.message}`));\n",
       "    } else if (typeof vegaEmbed === \"function\") {\n",
       "      displayChart(vegaEmbed);\n",
       "    } else {\n",
       "      loadScript(\"vega\")\n",
       "        .then(() => loadScript(\"vega-lite\"))\n",
       "        .then(() => loadScript(\"vega-embed\"))\n",
       "        .catch(showError)\n",
       "        .then(() => displayChart(vegaEmbed));\n",
       "    }\n",
       "  })({\"config\": {\"view\": {\"continuousWidth\": 400, \"continuousHeight\": 300}, \"title\": {\"anchor\": \"start\"}}, \"data\": {\"url\": \"http://localhost:17950/2033fb7b743fdaefa28f20e336d314ae.json\"}, \"mark\": {\"type\": \"bar\", \"width\": 20}, \"encoding\": {\"x\": {\"type\": \"nominal\", \"bin\": false, \"field\": \"0\", \"sort\": \"-y\", \"title\": \"Developer\"}, \"y\": {\"type\": \"quantitative\", \"field\": \"1\", \"scale\": {\"type\": \"linear\"}, \"title\": \"sum of global sales\"}}, \"title\": \"Global Sales by Developer\", \"width\": {\"step\": 25}, \"$schema\": \"https://vega.github.io/schema/vega-lite/v4.8.1.json\"}, {\"mode\": \"vega-lite\"});\n",
       "</script>"
      ],
      "text/plain": [
       "alt.Chart(...)"
      ]
     },
     "execution_count": 7,
     "metadata": {},
     "output_type": "execute_result"
    }
   ],
   "source": [
    "uniq = c_data.Developer.unique()\n",
    "c = []\n",
    "for u in uniq:\n",
    "    c.append((u, c_data.Global_Sales[c_data.Developer == u].sum()))\n",
    "c_df = pd.DataFrame(c).sort_values(1, ascending=False)\n",
    "alt.Chart(c_df[:100]).mark_bar(width=20).encode(\n",
    "    alt.Y('1:Q', scale=alt.Scale(type='linear'), title = \"sum of global sales\"),\n",
    "    alt.X(\"0:N\", bin=False, sort= '-y', title = \"Developer\"),\n",
    ").properties(width=alt.Step(25), title=\"Global Sales by Developer\").configure_title(anchor=\"start\")"
   ]
  },
  {
   "cell_type": "markdown",
   "metadata": {
    "tags": []
   },
   "source": [
    "Now comparing this plot to the histogram before you can clearly see that the sales per developer correlates with the number of released games, as EA Sports, EA Canada, Ubisoft for example are at the top of each graph. Nintendo is clearly an exception since the 14 most sold games are from Nintendo and the global sales sum of these 14 games is around 500 million."
   ]
  },
  {
   "cell_type": "code",
   "execution_count": 8,
   "metadata": {},
   "outputs": [
    {
     "data": {
      "text/html": [
       "\n",
       "<div id=\"altair-viz-bc4644a0fe374dee982df9340fbe0127\"></div>\n",
       "<script type=\"text/javascript\">\n",
       "  (function(spec, embedOpt){\n",
       "    let outputDiv = document.currentScript.previousElementSibling;\n",
       "    if (outputDiv.id !== \"altair-viz-bc4644a0fe374dee982df9340fbe0127\") {\n",
       "      outputDiv = document.getElementById(\"altair-viz-bc4644a0fe374dee982df9340fbe0127\");\n",
       "    }\n",
       "    const paths = {\n",
       "      \"vega\": \"https://cdn.jsdelivr.net/npm//vega@5?noext\",\n",
       "      \"vega-lib\": \"https://cdn.jsdelivr.net/npm//vega-lib?noext\",\n",
       "      \"vega-lite\": \"https://cdn.jsdelivr.net/npm//vega-lite@4.8.1?noext\",\n",
       "      \"vega-embed\": \"https://cdn.jsdelivr.net/npm//vega-embed@6?noext\",\n",
       "    };\n",
       "\n",
       "    function loadScript(lib) {\n",
       "      return new Promise(function(resolve, reject) {\n",
       "        var s = document.createElement('script');\n",
       "        s.src = paths[lib];\n",
       "        s.async = true;\n",
       "        s.onload = () => resolve(paths[lib]);\n",
       "        s.onerror = () => reject(`Error loading script: ${paths[lib]}`);\n",
       "        document.getElementsByTagName(\"head\")[0].appendChild(s);\n",
       "      });\n",
       "    }\n",
       "\n",
       "    function showError(err) {\n",
       "      outputDiv.innerHTML = `<div class=\"error\" style=\"color:red;\">${err}</div>`;\n",
       "      throw err;\n",
       "    }\n",
       "\n",
       "    function displayChart(vegaEmbed) {\n",
       "      vegaEmbed(outputDiv, spec, embedOpt)\n",
       "        .catch(err => showError(`Javascript Error: ${err.message}<br>This usually means there's a typo in your chart specification. See the javascript console for the full traceback.`));\n",
       "    }\n",
       "\n",
       "    if(typeof define === \"function\" && define.amd) {\n",
       "      requirejs.config({paths});\n",
       "      require([\"vega-embed\"], displayChart, err => showError(`Error loading script: ${err.message}`));\n",
       "    } else if (typeof vegaEmbed === \"function\") {\n",
       "      displayChart(vegaEmbed);\n",
       "    } else {\n",
       "      loadScript(\"vega\")\n",
       "        .then(() => loadScript(\"vega-lite\"))\n",
       "        .then(() => loadScript(\"vega-embed\"))\n",
       "        .catch(showError)\n",
       "        .then(() => displayChart(vegaEmbed));\n",
       "    }\n",
       "  })({\"config\": {\"view\": {\"continuousWidth\": 400, \"continuousHeight\": 300}}, \"data\": {\"url\": \"http://localhost:17950/af0aa49a280c4ba3c0458eb99177488b.json\"}, \"mark\": \"bar\", \"encoding\": {\"color\": {\"type\": \"nominal\", \"field\": \"variable\", \"legend\": {\"title\": \"Sales per region\"}}, \"tooltip\": {\"type\": \"quantitative\", \"aggregate\": \"sum\", \"field\": \"value\"}, \"x\": {\"type\": \"ordinal\", \"field\": \"year\"}, \"y\": {\"type\": \"quantitative\", \"field\": \"value\", \"title\": \"Sales\"}}, \"title\": \"Sales per region by year\", \"$schema\": \"https://vega.github.io/schema/vega-lite/v4.8.1.json\"}, {\"mode\": \"vega-lite\"});\n",
       "</script>"
      ],
      "text/plain": [
       "alt.Chart(...)"
      ]
     },
     "execution_count": 8,
     "metadata": {},
     "output_type": "execute_result"
    }
   ],
   "source": [
    "sales_year = []\n",
    "col = ['NA_Sales', 'EU_Sales', 'JP_Sales', 'Other_Sales']\n",
    "for year in range(1980, 2017):\n",
    "    sales = data[col][data['Year_of_Release']==year].sum()\n",
    "    year = pd.Series({\"year\": year})\n",
    "    sales_year.append(pd.concat([sales, year]))\n",
    "    \n",
    "source = pd.DataFrame(sales_year).melt(['year'], col)\n",
    "\n",
    "alt.Chart(source).mark_bar().encode(\n",
    "    alt.X('year:O'),\n",
    "    alt.Y('value:Q', title=\"Sales\"),\n",
    "    alt.Tooltip('sum(value):Q'),\n",
    "    color=alt.Color('variable:N', legend=alt.Legend(title=\"Sales per region\"))\n",
    ").properties(title=\"Sales per region by year\")"
   ]
  },
  {
   "cell_type": "markdown",
   "metadata": {},
   "source": [
    "Clearly the video game market is increasingly growing, especially the games from the year 2006-2011 have the biggest global sales compared to the year 2012-2016, which indicates that old games stay relevant at least for a few years. Especially the Wii-platform was popular in these years which is also noticable in the following chart. Also the above Graph follows the shape of the Histogram of Year_of_Release, meaning again that more games released also means more sales. <br>\n",
    "Furter visible is the market-share with north-america being the biggest market, followed by Europe and Japan. The market in other regions seem to grow but is comparibly small. The drop of sales at the more recent years could be explained by old games or \"classic\" games being more popular and usually it takes some years for a game to establish as a \"classic\" game."
   ]
  },
  {
   "cell_type": "code",
   "execution_count": 9,
   "metadata": {
    "tags": []
   },
   "outputs": [
    {
     "data": {
      "text/html": [
       "<div>\n",
       "<style scoped>\n",
       "    .dataframe tbody tr th:only-of-type {\n",
       "        vertical-align: middle;\n",
       "    }\n",
       "\n",
       "    .dataframe tbody tr th {\n",
       "        vertical-align: top;\n",
       "    }\n",
       "\n",
       "    .dataframe thead th {\n",
       "        text-align: right;\n",
       "    }\n",
       "</style>\n",
       "<table border=\"1\" class=\"dataframe\">\n",
       "  <thead>\n",
       "    <tr style=\"text-align: right;\">\n",
       "      <th></th>\n",
       "      <th>Name</th>\n",
       "      <th>Platform</th>\n",
       "      <th>Year_of_Release</th>\n",
       "      <th>Genre</th>\n",
       "      <th>Publisher</th>\n",
       "      <th>NA_Sales</th>\n",
       "      <th>EU_Sales</th>\n",
       "      <th>JP_Sales</th>\n",
       "      <th>Other_Sales</th>\n",
       "      <th>Global_Sales</th>\n",
       "      <th>Critic_Score</th>\n",
       "      <th>Critic_Count</th>\n",
       "      <th>User_Score</th>\n",
       "      <th>User_Count</th>\n",
       "      <th>Developer</th>\n",
       "      <th>Rating</th>\n",
       "    </tr>\n",
       "  </thead>\n",
       "  <tbody>\n",
       "    <tr>\n",
       "      <th>0</th>\n",
       "      <td>Wii Sports</td>\n",
       "      <td>Wii</td>\n",
       "      <td>2006.0</td>\n",
       "      <td>Sports</td>\n",
       "      <td>Nintendo</td>\n",
       "      <td>41.36</td>\n",
       "      <td>28.96</td>\n",
       "      <td>3.77</td>\n",
       "      <td>8.45</td>\n",
       "      <td>82.53</td>\n",
       "      <td>76.0</td>\n",
       "      <td>51.0</td>\n",
       "      <td>8.0</td>\n",
       "      <td>322.0</td>\n",
       "      <td>Nintendo</td>\n",
       "      <td>E</td>\n",
       "    </tr>\n",
       "    <tr>\n",
       "      <th>13</th>\n",
       "      <td>Wii Fit</td>\n",
       "      <td>Wii</td>\n",
       "      <td>2007.0</td>\n",
       "      <td>Sports</td>\n",
       "      <td>Nintendo</td>\n",
       "      <td>8.92</td>\n",
       "      <td>8.03</td>\n",
       "      <td>3.60</td>\n",
       "      <td>2.15</td>\n",
       "      <td>22.70</td>\n",
       "      <td>80.0</td>\n",
       "      <td>63.0</td>\n",
       "      <td>7.7</td>\n",
       "      <td>146.0</td>\n",
       "      <td>Nintendo</td>\n",
       "      <td>E</td>\n",
       "    </tr>\n",
       "    <tr>\n",
       "      <th>2</th>\n",
       "      <td>Mario Kart Wii</td>\n",
       "      <td>Wii</td>\n",
       "      <td>2008.0</td>\n",
       "      <td>Racing</td>\n",
       "      <td>Nintendo</td>\n",
       "      <td>15.68</td>\n",
       "      <td>12.76</td>\n",
       "      <td>3.79</td>\n",
       "      <td>3.29</td>\n",
       "      <td>35.52</td>\n",
       "      <td>82.0</td>\n",
       "      <td>73.0</td>\n",
       "      <td>8.3</td>\n",
       "      <td>709.0</td>\n",
       "      <td>Nintendo</td>\n",
       "      <td>E</td>\n",
       "    </tr>\n",
       "    <tr>\n",
       "      <th>3</th>\n",
       "      <td>Wii Sports Resort</td>\n",
       "      <td>Wii</td>\n",
       "      <td>2009.0</td>\n",
       "      <td>Sports</td>\n",
       "      <td>Nintendo</td>\n",
       "      <td>15.61</td>\n",
       "      <td>10.93</td>\n",
       "      <td>3.28</td>\n",
       "      <td>2.95</td>\n",
       "      <td>32.77</td>\n",
       "      <td>80.0</td>\n",
       "      <td>73.0</td>\n",
       "      <td>8.0</td>\n",
       "      <td>192.0</td>\n",
       "      <td>Nintendo</td>\n",
       "      <td>E</td>\n",
       "    </tr>\n",
       "    <tr>\n",
       "      <th>14</th>\n",
       "      <td>Kinect Adventures!</td>\n",
       "      <td>X360</td>\n",
       "      <td>2010.0</td>\n",
       "      <td>Misc</td>\n",
       "      <td>Microsoft Game Studios</td>\n",
       "      <td>15.00</td>\n",
       "      <td>4.89</td>\n",
       "      <td>0.24</td>\n",
       "      <td>1.69</td>\n",
       "      <td>21.81</td>\n",
       "      <td>61.0</td>\n",
       "      <td>45.0</td>\n",
       "      <td>6.3</td>\n",
       "      <td>106.0</td>\n",
       "      <td>Good Science Studio</td>\n",
       "      <td>E</td>\n",
       "    </tr>\n",
       "  </tbody>\n",
       "</table>\n",
       "</div>"
      ],
      "text/plain": [
       "                  Name Platform  Year_of_Release   Genre  \\\n",
       "0           Wii Sports      Wii           2006.0  Sports   \n",
       "13             Wii Fit      Wii           2007.0  Sports   \n",
       "2       Mario Kart Wii      Wii           2008.0  Racing   \n",
       "3    Wii Sports Resort      Wii           2009.0  Sports   \n",
       "14  Kinect Adventures!     X360           2010.0    Misc   \n",
       "\n",
       "                 Publisher  NA_Sales  EU_Sales  JP_Sales  Other_Sales  \\\n",
       "0                 Nintendo     41.36     28.96      3.77         8.45   \n",
       "13                Nintendo      8.92      8.03      3.60         2.15   \n",
       "2                 Nintendo     15.68     12.76      3.79         3.29   \n",
       "3                 Nintendo     15.61     10.93      3.28         2.95   \n",
       "14  Microsoft Game Studios     15.00      4.89      0.24         1.69   \n",
       "\n",
       "    Global_Sales  Critic_Score  Critic_Count  User_Score  User_Count  \\\n",
       "0          82.53          76.0          51.0         8.0       322.0   \n",
       "13         22.70          80.0          63.0         7.7       146.0   \n",
       "2          35.52          82.0          73.0         8.3       709.0   \n",
       "3          32.77          80.0          73.0         8.0       192.0   \n",
       "14         21.81          61.0          45.0         6.3       106.0   \n",
       "\n",
       "              Developer Rating  \n",
       "0              Nintendo      E  \n",
       "13             Nintendo      E  \n",
       "2              Nintendo      E  \n",
       "3              Nintendo      E  \n",
       "14  Good Science Studio      E  "
      ]
     },
     "execution_count": 9,
     "metadata": {},
     "output_type": "execute_result"
    }
   ],
   "source": [
    "idx = []\n",
    "for year in range(2006,2011):\n",
    "    idx.append(data[data[\"Year_of_Release\"]==year][['Global_Sales']].idxmax().values[0])\n",
    "data.iloc[idx]"
   ]
  },
  {
   "cell_type": "markdown",
   "metadata": {
    "tags": []
   },
   "source": [
    "# What are the most-sold games globally?"
   ]
  },
  {
   "cell_type": "code",
   "execution_count": 10,
   "metadata": {},
   "outputs": [
    {
     "data": {
      "text/html": [
       "<div>\n",
       "<style scoped>\n",
       "    .dataframe tbody tr th:only-of-type {\n",
       "        vertical-align: middle;\n",
       "    }\n",
       "\n",
       "    .dataframe tbody tr th {\n",
       "        vertical-align: top;\n",
       "    }\n",
       "\n",
       "    .dataframe thead th {\n",
       "        text-align: right;\n",
       "    }\n",
       "</style>\n",
       "<table border=\"1\" class=\"dataframe\">\n",
       "  <thead>\n",
       "    <tr style=\"text-align: right;\">\n",
       "      <th></th>\n",
       "      <th>Name</th>\n",
       "      <th>Platform</th>\n",
       "      <th>Year_of_Release</th>\n",
       "      <th>Genre</th>\n",
       "      <th>Publisher</th>\n",
       "      <th>NA_Sales</th>\n",
       "      <th>EU_Sales</th>\n",
       "      <th>JP_Sales</th>\n",
       "      <th>Other_Sales</th>\n",
       "      <th>Global_Sales</th>\n",
       "      <th>Critic_Score</th>\n",
       "      <th>Critic_Count</th>\n",
       "      <th>User_Score</th>\n",
       "      <th>User_Count</th>\n",
       "      <th>Developer</th>\n",
       "      <th>Rating</th>\n",
       "    </tr>\n",
       "  </thead>\n",
       "  <tbody>\n",
       "    <tr>\n",
       "      <th>0</th>\n",
       "      <td>Wii Sports</td>\n",
       "      <td>Wii</td>\n",
       "      <td>2006.0</td>\n",
       "      <td>Sports</td>\n",
       "      <td>Nintendo</td>\n",
       "      <td>41.36</td>\n",
       "      <td>28.96</td>\n",
       "      <td>3.77</td>\n",
       "      <td>8.45</td>\n",
       "      <td>82.53</td>\n",
       "      <td>76.0</td>\n",
       "      <td>51.0</td>\n",
       "      <td>8.0</td>\n",
       "      <td>322.0</td>\n",
       "      <td>Nintendo</td>\n",
       "      <td>E</td>\n",
       "    </tr>\n",
       "    <tr>\n",
       "      <th>1</th>\n",
       "      <td>Super Mario Bros.</td>\n",
       "      <td>NES</td>\n",
       "      <td>1985.0</td>\n",
       "      <td>Platform</td>\n",
       "      <td>Nintendo</td>\n",
       "      <td>29.08</td>\n",
       "      <td>3.58</td>\n",
       "      <td>6.81</td>\n",
       "      <td>0.77</td>\n",
       "      <td>40.24</td>\n",
       "      <td>71.0</td>\n",
       "      <td>22.0</td>\n",
       "      <td>7.5</td>\n",
       "      <td>24.0</td>\n",
       "      <td>NaN</td>\n",
       "      <td>NaN</td>\n",
       "    </tr>\n",
       "    <tr>\n",
       "      <th>2</th>\n",
       "      <td>Mario Kart Wii</td>\n",
       "      <td>Wii</td>\n",
       "      <td>2008.0</td>\n",
       "      <td>Racing</td>\n",
       "      <td>Nintendo</td>\n",
       "      <td>15.68</td>\n",
       "      <td>12.76</td>\n",
       "      <td>3.79</td>\n",
       "      <td>3.29</td>\n",
       "      <td>35.52</td>\n",
       "      <td>82.0</td>\n",
       "      <td>73.0</td>\n",
       "      <td>8.3</td>\n",
       "      <td>709.0</td>\n",
       "      <td>Nintendo</td>\n",
       "      <td>E</td>\n",
       "    </tr>\n",
       "    <tr>\n",
       "      <th>3</th>\n",
       "      <td>Wii Sports Resort</td>\n",
       "      <td>Wii</td>\n",
       "      <td>2009.0</td>\n",
       "      <td>Sports</td>\n",
       "      <td>Nintendo</td>\n",
       "      <td>15.61</td>\n",
       "      <td>10.93</td>\n",
       "      <td>3.28</td>\n",
       "      <td>2.95</td>\n",
       "      <td>32.77</td>\n",
       "      <td>80.0</td>\n",
       "      <td>73.0</td>\n",
       "      <td>8.0</td>\n",
       "      <td>192.0</td>\n",
       "      <td>Nintendo</td>\n",
       "      <td>E</td>\n",
       "    </tr>\n",
       "    <tr>\n",
       "      <th>4</th>\n",
       "      <td>Pokemon Red/Pokemon Blue</td>\n",
       "      <td>GB</td>\n",
       "      <td>1996.0</td>\n",
       "      <td>Role-Playing</td>\n",
       "      <td>Nintendo</td>\n",
       "      <td>11.27</td>\n",
       "      <td>8.89</td>\n",
       "      <td>10.22</td>\n",
       "      <td>1.00</td>\n",
       "      <td>31.37</td>\n",
       "      <td>71.0</td>\n",
       "      <td>22.0</td>\n",
       "      <td>7.5</td>\n",
       "      <td>24.0</td>\n",
       "      <td>NaN</td>\n",
       "      <td>NaN</td>\n",
       "    </tr>\n",
       "    <tr>\n",
       "      <th>5</th>\n",
       "      <td>Tetris</td>\n",
       "      <td>GB</td>\n",
       "      <td>1989.0</td>\n",
       "      <td>Puzzle</td>\n",
       "      <td>Nintendo</td>\n",
       "      <td>23.20</td>\n",
       "      <td>2.26</td>\n",
       "      <td>4.22</td>\n",
       "      <td>0.58</td>\n",
       "      <td>30.26</td>\n",
       "      <td>71.0</td>\n",
       "      <td>22.0</td>\n",
       "      <td>7.5</td>\n",
       "      <td>24.0</td>\n",
       "      <td>NaN</td>\n",
       "      <td>NaN</td>\n",
       "    </tr>\n",
       "    <tr>\n",
       "      <th>6</th>\n",
       "      <td>New Super Mario Bros.</td>\n",
       "      <td>DS</td>\n",
       "      <td>2006.0</td>\n",
       "      <td>Platform</td>\n",
       "      <td>Nintendo</td>\n",
       "      <td>11.28</td>\n",
       "      <td>9.14</td>\n",
       "      <td>6.50</td>\n",
       "      <td>2.88</td>\n",
       "      <td>29.80</td>\n",
       "      <td>89.0</td>\n",
       "      <td>65.0</td>\n",
       "      <td>8.5</td>\n",
       "      <td>431.0</td>\n",
       "      <td>Nintendo</td>\n",
       "      <td>E</td>\n",
       "    </tr>\n",
       "    <tr>\n",
       "      <th>7</th>\n",
       "      <td>Wii Play</td>\n",
       "      <td>Wii</td>\n",
       "      <td>2006.0</td>\n",
       "      <td>Misc</td>\n",
       "      <td>Nintendo</td>\n",
       "      <td>13.96</td>\n",
       "      <td>9.18</td>\n",
       "      <td>2.93</td>\n",
       "      <td>2.84</td>\n",
       "      <td>28.92</td>\n",
       "      <td>58.0</td>\n",
       "      <td>41.0</td>\n",
       "      <td>6.6</td>\n",
       "      <td>129.0</td>\n",
       "      <td>Nintendo</td>\n",
       "      <td>E</td>\n",
       "    </tr>\n",
       "    <tr>\n",
       "      <th>8</th>\n",
       "      <td>New Super Mario Bros. Wii</td>\n",
       "      <td>Wii</td>\n",
       "      <td>2009.0</td>\n",
       "      <td>Platform</td>\n",
       "      <td>Nintendo</td>\n",
       "      <td>14.44</td>\n",
       "      <td>6.94</td>\n",
       "      <td>4.70</td>\n",
       "      <td>2.24</td>\n",
       "      <td>28.32</td>\n",
       "      <td>87.0</td>\n",
       "      <td>80.0</td>\n",
       "      <td>8.4</td>\n",
       "      <td>594.0</td>\n",
       "      <td>Nintendo</td>\n",
       "      <td>E</td>\n",
       "    </tr>\n",
       "    <tr>\n",
       "      <th>9</th>\n",
       "      <td>Duck Hunt</td>\n",
       "      <td>NES</td>\n",
       "      <td>1984.0</td>\n",
       "      <td>Shooter</td>\n",
       "      <td>Nintendo</td>\n",
       "      <td>26.93</td>\n",
       "      <td>0.63</td>\n",
       "      <td>0.28</td>\n",
       "      <td>0.47</td>\n",
       "      <td>28.31</td>\n",
       "      <td>71.0</td>\n",
       "      <td>22.0</td>\n",
       "      <td>7.5</td>\n",
       "      <td>24.0</td>\n",
       "      <td>NaN</td>\n",
       "      <td>NaN</td>\n",
       "    </tr>\n",
       "  </tbody>\n",
       "</table>\n",
       "</div>"
      ],
      "text/plain": [
       "                        Name Platform  Year_of_Release         Genre  \\\n",
       "0                 Wii Sports      Wii           2006.0        Sports   \n",
       "1          Super Mario Bros.      NES           1985.0      Platform   \n",
       "2             Mario Kart Wii      Wii           2008.0        Racing   \n",
       "3          Wii Sports Resort      Wii           2009.0        Sports   \n",
       "4   Pokemon Red/Pokemon Blue       GB           1996.0  Role-Playing   \n",
       "5                     Tetris       GB           1989.0        Puzzle   \n",
       "6      New Super Mario Bros.       DS           2006.0      Platform   \n",
       "7                   Wii Play      Wii           2006.0          Misc   \n",
       "8  New Super Mario Bros. Wii      Wii           2009.0      Platform   \n",
       "9                  Duck Hunt      NES           1984.0       Shooter   \n",
       "\n",
       "  Publisher  NA_Sales  EU_Sales  JP_Sales  Other_Sales  Global_Sales  \\\n",
       "0  Nintendo     41.36     28.96      3.77         8.45         82.53   \n",
       "1  Nintendo     29.08      3.58      6.81         0.77         40.24   \n",
       "2  Nintendo     15.68     12.76      3.79         3.29         35.52   \n",
       "3  Nintendo     15.61     10.93      3.28         2.95         32.77   \n",
       "4  Nintendo     11.27      8.89     10.22         1.00         31.37   \n",
       "5  Nintendo     23.20      2.26      4.22         0.58         30.26   \n",
       "6  Nintendo     11.28      9.14      6.50         2.88         29.80   \n",
       "7  Nintendo     13.96      9.18      2.93         2.84         28.92   \n",
       "8  Nintendo     14.44      6.94      4.70         2.24         28.32   \n",
       "9  Nintendo     26.93      0.63      0.28         0.47         28.31   \n",
       "\n",
       "   Critic_Score  Critic_Count  User_Score  User_Count Developer Rating  \n",
       "0          76.0          51.0         8.0       322.0  Nintendo      E  \n",
       "1          71.0          22.0         7.5        24.0       NaN    NaN  \n",
       "2          82.0          73.0         8.3       709.0  Nintendo      E  \n",
       "3          80.0          73.0         8.0       192.0  Nintendo      E  \n",
       "4          71.0          22.0         7.5        24.0       NaN    NaN  \n",
       "5          71.0          22.0         7.5        24.0       NaN    NaN  \n",
       "6          89.0          65.0         8.5       431.0  Nintendo      E  \n",
       "7          58.0          41.0         6.6       129.0  Nintendo      E  \n",
       "8          87.0          80.0         8.4       594.0  Nintendo      E  \n",
       "9          71.0          22.0         7.5        24.0       NaN    NaN  "
      ]
     },
     "execution_count": 10,
     "metadata": {},
     "output_type": "execute_result"
    }
   ],
   "source": [
    "data_sorted = data.sort_values('Global_Sales', ascending=False)\n",
    "data_sorted.head(10)"
   ]
  },
  {
   "cell_type": "markdown",
   "metadata": {},
   "source": [
    "In the tabular representation, it can already be seen, that Wii Sports is the game that brought by far the most global sales. But this representation only shows the sales for each game per platform. <br>\n",
    "The following chart adds the sales of the same games on different platforms:"
   ]
  },
  {
   "cell_type": "code",
   "execution_count": 11,
   "metadata": {},
   "outputs": [
    {
     "data": {
      "text/html": [
       "\n",
       "<div id=\"altair-viz-5a080a2630374849af1178005aedd12d\"></div>\n",
       "<script type=\"text/javascript\">\n",
       "  (function(spec, embedOpt){\n",
       "    let outputDiv = document.currentScript.previousElementSibling;\n",
       "    if (outputDiv.id !== \"altair-viz-5a080a2630374849af1178005aedd12d\") {\n",
       "      outputDiv = document.getElementById(\"altair-viz-5a080a2630374849af1178005aedd12d\");\n",
       "    }\n",
       "    const paths = {\n",
       "      \"vega\": \"https://cdn.jsdelivr.net/npm//vega@5?noext\",\n",
       "      \"vega-lib\": \"https://cdn.jsdelivr.net/npm//vega-lib?noext\",\n",
       "      \"vega-lite\": \"https://cdn.jsdelivr.net/npm//vega-lite@4.8.1?noext\",\n",
       "      \"vega-embed\": \"https://cdn.jsdelivr.net/npm//vega-embed@6?noext\",\n",
       "    };\n",
       "\n",
       "    function loadScript(lib) {\n",
       "      return new Promise(function(resolve, reject) {\n",
       "        var s = document.createElement('script');\n",
       "        s.src = paths[lib];\n",
       "        s.async = true;\n",
       "        s.onload = () => resolve(paths[lib]);\n",
       "        s.onerror = () => reject(`Error loading script: ${paths[lib]}`);\n",
       "        document.getElementsByTagName(\"head\")[0].appendChild(s);\n",
       "      });\n",
       "    }\n",
       "\n",
       "    function showError(err) {\n",
       "      outputDiv.innerHTML = `<div class=\"error\" style=\"color:red;\">${err}</div>`;\n",
       "      throw err;\n",
       "    }\n",
       "\n",
       "    function displayChart(vegaEmbed) {\n",
       "      vegaEmbed(outputDiv, spec, embedOpt)\n",
       "        .catch(err => showError(`Javascript Error: ${err.message}<br>This usually means there's a typo in your chart specification. See the javascript console for the full traceback.`));\n",
       "    }\n",
       "\n",
       "    if(typeof define === \"function\" && define.amd) {\n",
       "      requirejs.config({paths});\n",
       "      require([\"vega-embed\"], displayChart, err => showError(`Error loading script: ${err.message}`));\n",
       "    } else if (typeof vegaEmbed === \"function\") {\n",
       "      displayChart(vegaEmbed);\n",
       "    } else {\n",
       "      loadScript(\"vega\")\n",
       "        .then(() => loadScript(\"vega-lite\"))\n",
       "        .then(() => loadScript(\"vega-embed\"))\n",
       "        .catch(showError)\n",
       "        .then(() => displayChart(vegaEmbed));\n",
       "    }\n",
       "  })({\"config\": {\"view\": {\"continuousWidth\": 400, \"continuousHeight\": 300}, \"title\": {\"anchor\": \"middle\", \"color\": \"#2b8cbe\", \"font\": \"Courier\", \"fontSize\": 20}}, \"data\": {\"url\": \"http://localhost:17950/25bb6fc0f8ddc7fa96a5243b85ff91f0.json\"}, \"mark\": \"bar\", \"encoding\": {\"color\": {\"type\": \"nominal\", \"field\": \"Platform\", \"legend\": {\"title\": \"Platform\"}, \"scale\": {\"scheme\": \"tableau20\"}}, \"tooltip\": [{\"type\": \"nominal\", \"field\": \"Name\"}, {\"type\": \"nominal\", \"field\": \"Platform\"}, {\"type\": \"nominal\", \"field\": \"Developer\"}, {\"type\": \"quantitative\", \"field\": \"Global_Sales\"}], \"x\": {\"type\": \"nominal\", \"field\": \"Name\", \"sort\": \"-y\"}, \"y\": {\"type\": \"quantitative\", \"field\": \"Global_Sales\"}}, \"selection\": {\"selector002\": {\"type\": \"interval\", \"bind\": \"scales\", \"encodings\": [\"x\"]}}, \"title\": \"Global sales of each game until 2016\", \"$schema\": \"https://vega.github.io/schema/vega-lite/v4.8.1.json\"}, {\"mode\": \"vega-lite\"});\n",
       "</script>"
      ],
      "text/plain": [
       "alt.Chart(...)"
      ]
     },
     "execution_count": 11,
     "metadata": {},
     "output_type": "execute_result"
    }
   ],
   "source": [
    "Global_top = alt.Chart(data_sorted[:50]).mark_bar().encode(\n",
    "    alt.X(\"Name:N\", sort='-y'),\n",
    "    alt.Y(\"Global_Sales:Q\"),\n",
    "    color=alt.Color(\"Platform\", scale=alt.Scale(scheme='tableau20'), legend=alt.Legend(title=\"Platform\")),\n",
    "    tooltip = [\"Name:N\", \"Platform:N\", \"Developer:N\", \"Global_Sales:Q\"]\n",
    ").properties(title='Global sales of each game until 2016'\n",
    ").interactive(bind_y=False)\n",
    "\n",
    "Global_top.configure_title(\n",
    "    fontSize=20,\n",
    "    font='Courier',\n",
    "    anchor='middle',\n",
    "    color='#2b8cbe'\n",
    ")"
   ]
  },
  {
   "cell_type": "markdown",
   "metadata": {},
   "source": [
    "Wii sports is still by far the most-sold game. The most probable explanation to its success is the fact, that it was sold in a bundle together with the Wii in all regions except in Japan. <br>\n",
    "So the success of Wii Sports is in reality the success of the Wii-console, as Wii Sports itself wasn't that popular.<br>\n",
    "<br>\n",
    "Also GTA V is now on second place, while it wasn't even in the top 10 of the tabular representation above. In the chart it can clearly be seen that its sales are only high, if different platform-sales are added."
   ]
  },
  {
   "cell_type": "code",
   "execution_count": 12,
   "metadata": {},
   "outputs": [
    {
     "data": {
      "text/html": [
       "\n",
       "<div id=\"altair-viz-4c2d0a4fa6094d1ab21ca1ae54d66415\"></div>\n",
       "<script type=\"text/javascript\">\n",
       "  (function(spec, embedOpt){\n",
       "    let outputDiv = document.currentScript.previousElementSibling;\n",
       "    if (outputDiv.id !== \"altair-viz-4c2d0a4fa6094d1ab21ca1ae54d66415\") {\n",
       "      outputDiv = document.getElementById(\"altair-viz-4c2d0a4fa6094d1ab21ca1ae54d66415\");\n",
       "    }\n",
       "    const paths = {\n",
       "      \"vega\": \"https://cdn.jsdelivr.net/npm//vega@5?noext\",\n",
       "      \"vega-lib\": \"https://cdn.jsdelivr.net/npm//vega-lib?noext\",\n",
       "      \"vega-lite\": \"https://cdn.jsdelivr.net/npm//vega-lite@4.8.1?noext\",\n",
       "      \"vega-embed\": \"https://cdn.jsdelivr.net/npm//vega-embed@6?noext\",\n",
       "    };\n",
       "\n",
       "    function loadScript(lib) {\n",
       "      return new Promise(function(resolve, reject) {\n",
       "        var s = document.createElement('script');\n",
       "        s.src = paths[lib];\n",
       "        s.async = true;\n",
       "        s.onload = () => resolve(paths[lib]);\n",
       "        s.onerror = () => reject(`Error loading script: ${paths[lib]}`);\n",
       "        document.getElementsByTagName(\"head\")[0].appendChild(s);\n",
       "      });\n",
       "    }\n",
       "\n",
       "    function showError(err) {\n",
       "      outputDiv.innerHTML = `<div class=\"error\" style=\"color:red;\">${err}</div>`;\n",
       "      throw err;\n",
       "    }\n",
       "\n",
       "    function displayChart(vegaEmbed) {\n",
       "      vegaEmbed(outputDiv, spec, embedOpt)\n",
       "        .catch(err => showError(`Javascript Error: ${err.message}<br>This usually means there's a typo in your chart specification. See the javascript console for the full traceback.`));\n",
       "    }\n",
       "\n",
       "    if(typeof define === \"function\" && define.amd) {\n",
       "      requirejs.config({paths});\n",
       "      require([\"vega-embed\"], displayChart, err => showError(`Error loading script: ${err.message}`));\n",
       "    } else if (typeof vegaEmbed === \"function\") {\n",
       "      displayChart(vegaEmbed);\n",
       "    } else {\n",
       "      loadScript(\"vega\")\n",
       "        .then(() => loadScript(\"vega-lite\"))\n",
       "        .then(() => loadScript(\"vega-embed\"))\n",
       "        .catch(showError)\n",
       "        .then(() => displayChart(vegaEmbed));\n",
       "    }\n",
       "  })({\"config\": {\"view\": {\"continuousWidth\": 400, \"continuousHeight\": 300}, \"title\": {\"anchor\": \"middle\", \"color\": \"#2b8cbe\", \"font\": \"Courier\", \"fontSize\": 20}}, \"data\": {\"url\": \"http://localhost:17950/25bb6fc0f8ddc7fa96a5243b85ff91f0.json\"}, \"mark\": \"bar\", \"encoding\": {\"color\": {\"type\": \"nominal\", \"field\": \"Platform\", \"legend\": {\"title\": \"Platform\"}, \"scale\": {\"scheme\": \"tableau20\"}}, \"tooltip\": [{\"type\": \"nominal\", \"field\": \"Name\"}, {\"type\": \"nominal\", \"field\": \"Platform\"}, {\"type\": \"nominal\", \"field\": \"Developer\"}, {\"type\": \"quantitative\", \"field\": \"NA_Sales\"}], \"x\": {\"type\": \"nominal\", \"field\": \"Name\", \"sort\": \"-y\"}, \"y\": {\"type\": \"quantitative\", \"field\": \"NA_Sales\"}}, \"selection\": {\"selector003\": {\"type\": \"interval\", \"bind\": \"scales\", \"encodings\": [\"x\"]}}, \"title\": \"North American sales of each game until 2016\", \"$schema\": \"https://vega.github.io/schema/vega-lite/v4.8.1.json\"}, {\"mode\": \"vega-lite\"});\n",
       "</script>"
      ],
      "text/plain": [
       "alt.Chart(...)"
      ]
     },
     "execution_count": 12,
     "metadata": {},
     "output_type": "execute_result"
    }
   ],
   "source": [
    "NA_top = alt.Chart(data_sorted[:50]).mark_bar().encode(\n",
    "    alt.X(\"Name:N\", sort='-y'),\n",
    "    alt.Y(\"NA_Sales:Q\"),\n",
    "    color=alt.Color(\"Platform\", scale=alt.Scale(scheme='tableau20'), legend=alt.Legend(title=\"Platform\")),\n",
    "    tooltip = [\"Name:N\", \"Platform:N\", \"Developer:N\", \"NA_Sales:Q\"]\n",
    ").properties(title='North American sales of each game until 2016'\n",
    ").interactive(bind_y=False)\n",
    "\n",
    "NA_top.configure_title(\n",
    "    fontSize=20,\n",
    "    font='Courier',\n",
    "    anchor='middle',\n",
    "    color='#2b8cbe'\n",
    ")"
   ]
  },
  {
   "cell_type": "markdown",
   "metadata": {},
   "source": [
    "Nintendo still manages to beat all other american games with Wii Sports, Super Mario Bros and Duck Hunt in North America.<br>\n",
    "--> This is a good example of the success of japanese games and electronics!"
   ]
  },
  {
   "cell_type": "code",
   "execution_count": 13,
   "metadata": {},
   "outputs": [
    {
     "data": {
      "text/html": [
       "\n",
       "<div id=\"altair-viz-2bf96dde97fe4855bb77fc89712a66fd\"></div>\n",
       "<script type=\"text/javascript\">\n",
       "  (function(spec, embedOpt){\n",
       "    let outputDiv = document.currentScript.previousElementSibling;\n",
       "    if (outputDiv.id !== \"altair-viz-2bf96dde97fe4855bb77fc89712a66fd\") {\n",
       "      outputDiv = document.getElementById(\"altair-viz-2bf96dde97fe4855bb77fc89712a66fd\");\n",
       "    }\n",
       "    const paths = {\n",
       "      \"vega\": \"https://cdn.jsdelivr.net/npm//vega@5?noext\",\n",
       "      \"vega-lib\": \"https://cdn.jsdelivr.net/npm//vega-lib?noext\",\n",
       "      \"vega-lite\": \"https://cdn.jsdelivr.net/npm//vega-lite@4.8.1?noext\",\n",
       "      \"vega-embed\": \"https://cdn.jsdelivr.net/npm//vega-embed@6?noext\",\n",
       "    };\n",
       "\n",
       "    function loadScript(lib) {\n",
       "      return new Promise(function(resolve, reject) {\n",
       "        var s = document.createElement('script');\n",
       "        s.src = paths[lib];\n",
       "        s.async = true;\n",
       "        s.onload = () => resolve(paths[lib]);\n",
       "        s.onerror = () => reject(`Error loading script: ${paths[lib]}`);\n",
       "        document.getElementsByTagName(\"head\")[0].appendChild(s);\n",
       "      });\n",
       "    }\n",
       "\n",
       "    function showError(err) {\n",
       "      outputDiv.innerHTML = `<div class=\"error\" style=\"color:red;\">${err}</div>`;\n",
       "      throw err;\n",
       "    }\n",
       "\n",
       "    function displayChart(vegaEmbed) {\n",
       "      vegaEmbed(outputDiv, spec, embedOpt)\n",
       "        .catch(err => showError(`Javascript Error: ${err.message}<br>This usually means there's a typo in your chart specification. See the javascript console for the full traceback.`));\n",
       "    }\n",
       "\n",
       "    if(typeof define === \"function\" && define.amd) {\n",
       "      requirejs.config({paths});\n",
       "      require([\"vega-embed\"], displayChart, err => showError(`Error loading script: ${err.message}`));\n",
       "    } else if (typeof vegaEmbed === \"function\") {\n",
       "      displayChart(vegaEmbed);\n",
       "    } else {\n",
       "      loadScript(\"vega\")\n",
       "        .then(() => loadScript(\"vega-lite\"))\n",
       "        .then(() => loadScript(\"vega-embed\"))\n",
       "        .catch(showError)\n",
       "        .then(() => displayChart(vegaEmbed));\n",
       "    }\n",
       "  })({\"config\": {\"view\": {\"continuousWidth\": 400, \"continuousHeight\": 300}, \"title\": {\"anchor\": \"middle\", \"color\": \"#2b8cbe\", \"font\": \"Courier\", \"fontSize\": 20}}, \"data\": {\"url\": \"http://localhost:17950/25bb6fc0f8ddc7fa96a5243b85ff91f0.json\"}, \"mark\": \"bar\", \"encoding\": {\"color\": {\"type\": \"nominal\", \"field\": \"Platform\", \"legend\": {\"title\": \"Platform\"}, \"scale\": {\"scheme\": \"tableau20\"}}, \"tooltip\": [{\"type\": \"nominal\", \"field\": \"Name\"}, {\"type\": \"nominal\", \"field\": \"Platform\"}, {\"type\": \"nominal\", \"field\": \"Developer\"}, {\"type\": \"quantitative\", \"field\": \"EU_Sales\"}], \"x\": {\"type\": \"nominal\", \"field\": \"Name\", \"sort\": \"-y\"}, \"y\": {\"type\": \"quantitative\", \"field\": \"EU_Sales\"}}, \"selection\": {\"selector004\": {\"type\": \"interval\", \"bind\": \"scales\", \"encodings\": [\"x\"]}}, \"title\": \"European sales of each game until 2016\", \"$schema\": \"https://vega.github.io/schema/vega-lite/v4.8.1.json\"}, {\"mode\": \"vega-lite\"});\n",
       "</script>"
      ],
      "text/plain": [
       "alt.Chart(...)"
      ]
     },
     "execution_count": 13,
     "metadata": {},
     "output_type": "execute_result"
    }
   ],
   "source": [
    "EU_top = alt.Chart(data_sorted[:50]).mark_bar().encode(\n",
    "    alt.X(\"Name:N\", sort='-y'),\n",
    "    alt.Y(\"EU_Sales:Q\"),\n",
    "    color=alt.Color(\"Platform\", scale=alt.Scale(scheme='tableau20'), legend=alt.Legend(title=\"Platform\")),\n",
    "    tooltip = [\"Name:N\", \"Platform:N\", \"Developer:N\", \"EU_Sales:Q\"]\n",
    ").properties(title='European sales of each game until 2016'\n",
    ").interactive(bind_y=False)\n",
    "\n",
    "EU_top.configure_title(\n",
    "    fontSize=20,\n",
    "    font='Courier',\n",
    "    anchor='middle',\n",
    "    color='#2b8cbe'\n",
    ")"
   ]
  },
  {
   "cell_type": "markdown",
   "metadata": {},
   "source": [
    "Wii Sports is also on the top in Europe. Generally, the european sales are similar to the global sales with a few small differences, e.g. that shooter games seem to be more popular in Europe."
   ]
  },
  {
   "cell_type": "code",
   "execution_count": 14,
   "metadata": {},
   "outputs": [
    {
     "data": {
      "text/html": [
       "\n",
       "<div id=\"altair-viz-72976bf480714747a3f1bc40b2e75e71\"></div>\n",
       "<script type=\"text/javascript\">\n",
       "  (function(spec, embedOpt){\n",
       "    let outputDiv = document.currentScript.previousElementSibling;\n",
       "    if (outputDiv.id !== \"altair-viz-72976bf480714747a3f1bc40b2e75e71\") {\n",
       "      outputDiv = document.getElementById(\"altair-viz-72976bf480714747a3f1bc40b2e75e71\");\n",
       "    }\n",
       "    const paths = {\n",
       "      \"vega\": \"https://cdn.jsdelivr.net/npm//vega@5?noext\",\n",
       "      \"vega-lib\": \"https://cdn.jsdelivr.net/npm//vega-lib?noext\",\n",
       "      \"vega-lite\": \"https://cdn.jsdelivr.net/npm//vega-lite@4.8.1?noext\",\n",
       "      \"vega-embed\": \"https://cdn.jsdelivr.net/npm//vega-embed@6?noext\",\n",
       "    };\n",
       "\n",
       "    function loadScript(lib) {\n",
       "      return new Promise(function(resolve, reject) {\n",
       "        var s = document.createElement('script');\n",
       "        s.src = paths[lib];\n",
       "        s.async = true;\n",
       "        s.onload = () => resolve(paths[lib]);\n",
       "        s.onerror = () => reject(`Error loading script: ${paths[lib]}`);\n",
       "        document.getElementsByTagName(\"head\")[0].appendChild(s);\n",
       "      });\n",
       "    }\n",
       "\n",
       "    function showError(err) {\n",
       "      outputDiv.innerHTML = `<div class=\"error\" style=\"color:red;\">${err}</div>`;\n",
       "      throw err;\n",
       "    }\n",
       "\n",
       "    function displayChart(vegaEmbed) {\n",
       "      vegaEmbed(outputDiv, spec, embedOpt)\n",
       "        .catch(err => showError(`Javascript Error: ${err.message}<br>This usually means there's a typo in your chart specification. See the javascript console for the full traceback.`));\n",
       "    }\n",
       "\n",
       "    if(typeof define === \"function\" && define.amd) {\n",
       "      requirejs.config({paths});\n",
       "      require([\"vega-embed\"], displayChart, err => showError(`Error loading script: ${err.message}`));\n",
       "    } else if (typeof vegaEmbed === \"function\") {\n",
       "      displayChart(vegaEmbed);\n",
       "    } else {\n",
       "      loadScript(\"vega\")\n",
       "        .then(() => loadScript(\"vega-lite\"))\n",
       "        .then(() => loadScript(\"vega-embed\"))\n",
       "        .catch(showError)\n",
       "        .then(() => displayChart(vegaEmbed));\n",
       "    }\n",
       "  })({\"config\": {\"view\": {\"continuousWidth\": 400, \"continuousHeight\": 300}, \"title\": {\"anchor\": \"middle\", \"color\": \"#2b8cbe\", \"font\": \"Courier\", \"fontSize\": 20}}, \"data\": {\"url\": \"http://localhost:17950/25bb6fc0f8ddc7fa96a5243b85ff91f0.json\"}, \"mark\": \"bar\", \"encoding\": {\"color\": {\"type\": \"nominal\", \"field\": \"Platform\", \"legend\": {\"title\": \"Platform\"}, \"scale\": {\"scheme\": \"tableau20\"}}, \"tooltip\": [{\"type\": \"nominal\", \"field\": \"Name\"}, {\"type\": \"nominal\", \"field\": \"Platform\"}, {\"type\": \"nominal\", \"field\": \"Developer\"}, {\"type\": \"quantitative\", \"field\": \"JP_Sales\"}], \"x\": {\"type\": \"nominal\", \"field\": \"Name\", \"sort\": \"-y\"}, \"y\": {\"type\": \"quantitative\", \"field\": \"JP_Sales\"}}, \"selection\": {\"selector005\": {\"type\": \"interval\", \"bind\": \"scales\", \"encodings\": [\"x\"]}}, \"title\": \"Japanese sales of each game until 2016\", \"$schema\": \"https://vega.github.io/schema/vega-lite/v4.8.1.json\"}, {\"mode\": \"vega-lite\"});\n",
       "</script>"
      ],
      "text/plain": [
       "alt.Chart(...)"
      ]
     },
     "execution_count": 14,
     "metadata": {},
     "output_type": "execute_result"
    }
   ],
   "source": [
    "JP_top = alt.Chart(data_sorted[:50]).mark_bar().encode(\n",
    "    alt.X(\"Name:N\", sort='-y'),\n",
    "    alt.Y(\"JP_Sales:Q\"),\n",
    "    color=alt.Color(\"Platform\", scale=alt.Scale(scheme='tableau20'), legend=alt.Legend(title=\"Platform\")),\n",
    "    tooltip = [\"Name:N\", \"Platform:N\", \"Developer:N\", \"JP_Sales:Q\"]\n",
    ").properties(title='Japanese sales of each game until 2016'\n",
    ").interactive(bind_y=False)\n",
    "\n",
    "JP_top.configure_title(\n",
    "    fontSize=20,\n",
    "    font='Courier',\n",
    "    anchor='middle',\n",
    "    color='#2b8cbe'\n",
    ")"
   ]
  },
  {
   "cell_type": "markdown",
   "metadata": {},
   "source": [
    "Interestingly, the japanese top game-sales look very different from North America, Europe as well as the global sales. This is most likely due to cultural differences and different marketing strategies and thus a very different market. Also, the top 11 games were all developed by a japanese company (Nintendo).<br> \n",
    "Furthermore it can be seen, that the Pokemon games are especially popular in Japan, with 5 out of the top 10 games being Pokemon games."
   ]
  },
  {
   "cell_type": "code",
   "execution_count": 15,
   "metadata": {},
   "outputs": [
    {
     "data": {
      "text/html": [
       "\n",
       "<div id=\"altair-viz-afc4b725a3ac4986bfbeea9b3ad3b34a\"></div>\n",
       "<script type=\"text/javascript\">\n",
       "  (function(spec, embedOpt){\n",
       "    let outputDiv = document.currentScript.previousElementSibling;\n",
       "    if (outputDiv.id !== \"altair-viz-afc4b725a3ac4986bfbeea9b3ad3b34a\") {\n",
       "      outputDiv = document.getElementById(\"altair-viz-afc4b725a3ac4986bfbeea9b3ad3b34a\");\n",
       "    }\n",
       "    const paths = {\n",
       "      \"vega\": \"https://cdn.jsdelivr.net/npm//vega@5?noext\",\n",
       "      \"vega-lib\": \"https://cdn.jsdelivr.net/npm//vega-lib?noext\",\n",
       "      \"vega-lite\": \"https://cdn.jsdelivr.net/npm//vega-lite@4.8.1?noext\",\n",
       "      \"vega-embed\": \"https://cdn.jsdelivr.net/npm//vega-embed@6?noext\",\n",
       "    };\n",
       "\n",
       "    function loadScript(lib) {\n",
       "      return new Promise(function(resolve, reject) {\n",
       "        var s = document.createElement('script');\n",
       "        s.src = paths[lib];\n",
       "        s.async = true;\n",
       "        s.onload = () => resolve(paths[lib]);\n",
       "        s.onerror = () => reject(`Error loading script: ${paths[lib]}`);\n",
       "        document.getElementsByTagName(\"head\")[0].appendChild(s);\n",
       "      });\n",
       "    }\n",
       "\n",
       "    function showError(err) {\n",
       "      outputDiv.innerHTML = `<div class=\"error\" style=\"color:red;\">${err}</div>`;\n",
       "      throw err;\n",
       "    }\n",
       "\n",
       "    function displayChart(vegaEmbed) {\n",
       "      vegaEmbed(outputDiv, spec, embedOpt)\n",
       "        .catch(err => showError(`Javascript Error: ${err.message}<br>This usually means there's a typo in your chart specification. See the javascript console for the full traceback.`));\n",
       "    }\n",
       "\n",
       "    if(typeof define === \"function\" && define.amd) {\n",
       "      requirejs.config({paths});\n",
       "      require([\"vega-embed\"], displayChart, err => showError(`Error loading script: ${err.message}`));\n",
       "    } else if (typeof vegaEmbed === \"function\") {\n",
       "      displayChart(vegaEmbed);\n",
       "    } else {\n",
       "      loadScript(\"vega\")\n",
       "        .then(() => loadScript(\"vega-lite\"))\n",
       "        .then(() => loadScript(\"vega-embed\"))\n",
       "        .catch(showError)\n",
       "        .then(() => displayChart(vegaEmbed));\n",
       "    }\n",
       "  })({\"config\": {\"view\": {\"continuousWidth\": 400, \"continuousHeight\": 300}, \"title\": {\"anchor\": \"middle\", \"color\": \"#2b8cbe\", \"font\": \"Courier\", \"fontSize\": 20}}, \"data\": {\"url\": \"http://localhost:17950/25bb6fc0f8ddc7fa96a5243b85ff91f0.json\"}, \"mark\": \"bar\", \"encoding\": {\"color\": {\"type\": \"nominal\", \"field\": \"Platform\", \"legend\": {\"title\": \"Platform\"}, \"scale\": {\"scheme\": \"tableau20\"}}, \"tooltip\": [{\"type\": \"nominal\", \"field\": \"Name\"}, {\"type\": \"nominal\", \"field\": \"Platform\"}, {\"type\": \"nominal\", \"field\": \"Developer\"}, {\"type\": \"quantitative\", \"field\": \"Other_Sales\"}], \"x\": {\"type\": \"nominal\", \"field\": \"Name\", \"sort\": \"-y\"}, \"y\": {\"type\": \"quantitative\", \"field\": \"Other_Sales\"}}, \"selection\": {\"selector006\": {\"type\": \"interval\", \"bind\": \"scales\", \"encodings\": [\"x\"]}}, \"title\": \"Other sales of each game until 2016\", \"$schema\": \"https://vega.github.io/schema/vega-lite/v4.8.1.json\"}, {\"mode\": \"vega-lite\"});\n",
       "</script>"
      ],
      "text/plain": [
       "alt.Chart(...)"
      ]
     },
     "execution_count": 15,
     "metadata": {},
     "output_type": "execute_result"
    }
   ],
   "source": [
    "Other_top = alt.Chart(data_sorted[:50]).mark_bar().encode(\n",
    "    alt.X(\"Name:N\", sort='-y'),\n",
    "    alt.Y(\"Other_Sales:Q\"),\n",
    "    color=alt.Color(\"Platform\", scale=alt.Scale(scheme='tableau20'), legend=alt.Legend(title=\"Platform\")),\n",
    "    tooltip = [\"Name:N\", \"Platform:N\", \"Developer:N\", \"Other_Sales:Q\"]\n",
    ").properties(title='Other sales of each game until 2016'\n",
    ").interactive(bind_y=False)\n",
    "\n",
    "Other_top.configure_title(\n",
    "    fontSize=20,\n",
    "    font='Courier',\n",
    "    anchor='middle',\n",
    "    color='#2b8cbe'\n",
    ")"
   ]
  },
  {
   "cell_type": "markdown",
   "metadata": {},
   "source": [
    "In the other regions not belonging to one of the three big markets, GTA San Andreas seems to be the most popular game. Here too, shooter games are high in the list, with the occasional nintendo-classic game in between."
   ]
  },
  {
   "cell_type": "markdown",
   "metadata": {
    "tags": []
   },
   "source": [
    "## Overview and Comparison"
   ]
  },
  {
   "cell_type": "code",
   "execution_count": 16,
   "metadata": {},
   "outputs": [
    {
     "data": {
      "text/html": [
       "\n",
       "<div id=\"altair-viz-51cf617cda67497db0f3ab4c30e2786c\"></div>\n",
       "<script type=\"text/javascript\">\n",
       "  (function(spec, embedOpt){\n",
       "    let outputDiv = document.currentScript.previousElementSibling;\n",
       "    if (outputDiv.id !== \"altair-viz-51cf617cda67497db0f3ab4c30e2786c\") {\n",
       "      outputDiv = document.getElementById(\"altair-viz-51cf617cda67497db0f3ab4c30e2786c\");\n",
       "    }\n",
       "    const paths = {\n",
       "      \"vega\": \"https://cdn.jsdelivr.net/npm//vega@5?noext\",\n",
       "      \"vega-lib\": \"https://cdn.jsdelivr.net/npm//vega-lib?noext\",\n",
       "      \"vega-lite\": \"https://cdn.jsdelivr.net/npm//vega-lite@4.8.1?noext\",\n",
       "      \"vega-embed\": \"https://cdn.jsdelivr.net/npm//vega-embed@6?noext\",\n",
       "    };\n",
       "\n",
       "    function loadScript(lib) {\n",
       "      return new Promise(function(resolve, reject) {\n",
       "        var s = document.createElement('script');\n",
       "        s.src = paths[lib];\n",
       "        s.async = true;\n",
       "        s.onload = () => resolve(paths[lib]);\n",
       "        s.onerror = () => reject(`Error loading script: ${paths[lib]}`);\n",
       "        document.getElementsByTagName(\"head\")[0].appendChild(s);\n",
       "      });\n",
       "    }\n",
       "\n",
       "    function showError(err) {\n",
       "      outputDiv.innerHTML = `<div class=\"error\" style=\"color:red;\">${err}</div>`;\n",
       "      throw err;\n",
       "    }\n",
       "\n",
       "    function displayChart(vegaEmbed) {\n",
       "      vegaEmbed(outputDiv, spec, embedOpt)\n",
       "        .catch(err => showError(`Javascript Error: ${err.message}<br>This usually means there's a typo in your chart specification. See the javascript console for the full traceback.`));\n",
       "    }\n",
       "\n",
       "    if(typeof define === \"function\" && define.amd) {\n",
       "      requirejs.config({paths});\n",
       "      require([\"vega-embed\"], displayChart, err => showError(`Error loading script: ${err.message}`));\n",
       "    } else if (typeof vegaEmbed === \"function\") {\n",
       "      displayChart(vegaEmbed);\n",
       "    } else {\n",
       "      loadScript(\"vega\")\n",
       "        .then(() => loadScript(\"vega-lite\"))\n",
       "        .then(() => loadScript(\"vega-embed\"))\n",
       "        .catch(showError)\n",
       "        .then(() => displayChart(vegaEmbed));\n",
       "    }\n",
       "  })({\"config\": {\"view\": {\"continuousWidth\": 400, \"continuousHeight\": 300}}, \"hconcat\": [{\"vconcat\": [{\"data\": {\"url\": \"http://localhost:17950/25bb6fc0f8ddc7fa96a5243b85ff91f0.json\"}, \"mark\": \"bar\", \"encoding\": {\"color\": {\"type\": \"nominal\", \"field\": \"Platform\", \"legend\": {\"title\": \"Platform\"}, \"scale\": {\"scheme\": \"tableau20\"}}, \"tooltip\": [{\"type\": \"nominal\", \"field\": \"Name\"}, {\"type\": \"nominal\", \"field\": \"Platform\"}, {\"type\": \"nominal\", \"field\": \"Developer\"}, {\"type\": \"quantitative\", \"field\": \"NA_Sales\"}], \"x\": {\"type\": \"nominal\", \"field\": \"Name\", \"sort\": \"-y\"}, \"y\": {\"type\": \"quantitative\", \"field\": \"NA_Sales\"}}, \"height\": 200, \"selection\": {\"selector003\": {\"type\": \"interval\", \"bind\": \"scales\", \"encodings\": [\"x\"]}}, \"title\": \"North American sales of each game until 2016\", \"width\": 600}, {\"data\": {\"url\": \"http://localhost:17950/25bb6fc0f8ddc7fa96a5243b85ff91f0.json\"}, \"mark\": \"bar\", \"encoding\": {\"color\": {\"type\": \"nominal\", \"field\": \"Platform\", \"legend\": {\"title\": \"Platform\"}, \"scale\": {\"scheme\": \"tableau20\"}}, \"tooltip\": [{\"type\": \"nominal\", \"field\": \"Name\"}, {\"type\": \"nominal\", \"field\": \"Platform\"}, {\"type\": \"nominal\", \"field\": \"Developer\"}, {\"type\": \"quantitative\", \"field\": \"EU_Sales\"}], \"x\": {\"type\": \"nominal\", \"field\": \"Name\", \"sort\": \"-y\"}, \"y\": {\"type\": \"quantitative\", \"field\": \"EU_Sales\"}}, \"height\": 200, \"selection\": {\"selector004\": {\"type\": \"interval\", \"bind\": \"scales\", \"encodings\": [\"x\"]}}, \"title\": \"European sales of each game until 2016\", \"width\": 600}]}, {\"vconcat\": [{\"data\": {\"url\": \"http://localhost:17950/25bb6fc0f8ddc7fa96a5243b85ff91f0.json\"}, \"mark\": \"bar\", \"encoding\": {\"color\": {\"type\": \"nominal\", \"field\": \"Platform\", \"legend\": {\"title\": \"Platform\"}, \"scale\": {\"scheme\": \"tableau20\"}}, \"tooltip\": [{\"type\": \"nominal\", \"field\": \"Name\"}, {\"type\": \"nominal\", \"field\": \"Platform\"}, {\"type\": \"nominal\", \"field\": \"Developer\"}, {\"type\": \"quantitative\", \"field\": \"JP_Sales\"}], \"x\": {\"type\": \"nominal\", \"field\": \"Name\", \"sort\": \"-y\"}, \"y\": {\"type\": \"quantitative\", \"field\": \"JP_Sales\"}}, \"height\": 200, \"selection\": {\"selector005\": {\"type\": \"interval\", \"bind\": \"scales\", \"encodings\": [\"x\"]}}, \"title\": \"Japanese sales of each game until 2016\", \"width\": 600}, {\"data\": {\"url\": \"http://localhost:17950/25bb6fc0f8ddc7fa96a5243b85ff91f0.json\"}, \"mark\": \"bar\", \"encoding\": {\"color\": {\"type\": \"nominal\", \"field\": \"Platform\", \"legend\": {\"title\": \"Platform\"}, \"scale\": {\"scheme\": \"tableau20\"}}, \"tooltip\": [{\"type\": \"nominal\", \"field\": \"Name\"}, {\"type\": \"nominal\", \"field\": \"Platform\"}, {\"type\": \"nominal\", \"field\": \"Developer\"}, {\"type\": \"quantitative\", \"field\": \"Other_Sales\"}], \"x\": {\"type\": \"nominal\", \"field\": \"Name\", \"sort\": \"-y\"}, \"y\": {\"type\": \"quantitative\", \"field\": \"Other_Sales\"}}, \"height\": 200, \"selection\": {\"selector006\": {\"type\": \"interval\", \"bind\": \"scales\", \"encodings\": [\"x\"]}}, \"title\": \"Other sales of each game until 2016\", \"width\": 600}]}], \"$schema\": \"https://vega.github.io/schema/vega-lite/v4.8.1.json\"}, {\"mode\": \"vega-lite\"});\n",
       "</script>"
      ],
      "text/plain": [
       "alt.HConcatChart(...)"
      ]
     },
     "execution_count": 16,
     "metadata": {},
     "output_type": "execute_result"
    }
   ],
   "source": [
    "NA_top = NA_top.properties(height=200, width=600)\n",
    "EU_top = EU_top.properties(height=200, width=600)\n",
    "JP_top = JP_top.properties(height=200, width=600)\n",
    "Other_top = Other_top.properties(height=200, width=600)\n",
    "\n",
    "c1 = alt.vconcat(NA_top, EU_top)\n",
    "c2 = alt.vconcat(JP_top, Other_top)\n",
    "\n",
    "alt.hconcat(c1, c2)"
   ]
  },
  {
   "cell_type": "markdown",
   "metadata": {},
   "source": [
    "# Find Correlations\n",
    "The goal is to find correlations between differnet features, at first particulary in the context of global and local sales."
   ]
  },
  {
   "cell_type": "code",
   "execution_count": 17,
   "metadata": {},
   "outputs": [
    {
     "data": {
      "application/vnd.jupyter.widget-view+json": {
       "model_id": "06cac01bf78041f580777b352da7aaed",
       "version_major": 2,
       "version_minor": 0
      },
      "text/plain": [
       "interactive(children=(Dropdown(description='x', options=('Platform:N', 'Year_of_Release:O', 'Genre:N', 'Global…"
      ]
     },
     "metadata": {},
     "output_type": "display_data"
    }
   ],
   "source": [
    "@widgets.interact(x = [\"Platform:N\", \"Year_of_Release:O\", 'Genre:N', \"Global_Sales:Q\", \"NA_Sales:Q\", \"EU_Sales:Q\", \"JP_Sales:Q\", \n",
    "                       \"Other_Sales:Q\", \"Rating:N\", \"Critic_Score:Q\", \"User_Score:Q\"], \n",
    "                  y = [\"Platform:N\", \"Year_of_Release:O\", 'Genre:N', \"Global_Sales:Q\", \"NA_Sales:Q\", \"EU_Sales:Q\", \"JP_Sales:Q\", \n",
    "                       \"Other_Sales:Q\", \"Rating:N\", \"Critic_Score:Q\", \"User_Score:Q\"],\n",
    "                  marker_size = [\"sum(Global_Sales):Q\", \"sum(NA_Sales):Q\", \"sum(EU_Sales):Q\", \"sum(JP_Sales):Q\" , \"sum(Other_Sales):Q\"])\n",
    "def show_plot(x,y,marker_size):\n",
    "    \n",
    "    return alt.Chart(data).mark_circle().encode(\n",
    "        alt.X(x, scale=alt.Scale(zero=False)),\n",
    "        alt.Y(y, scale=alt.Scale(zero=False)),\n",
    "        size = marker_size,\n",
    "        opacity = alt.value(0.8)\n",
    "        \n",
    ").configure_axis(grid=True).interactive()"
   ]
  },
  {
   "cell_type": "markdown",
   "metadata": {
    "tags": []
   },
   "source": [
    "**Platform vs. Year(global)**: In this graph you can nicely see that the platform are time bound as each platform was released in a certain year and got superseded by another platform (PS, PS2, PS3, PS4) after a certain time period. An exception is the PC, where the global sales are more constant but rather small compared to the console market. <br>\n",
    "**Platform vs. Genre(all)**: Looking for a clue what leads to a high global sale, we can see following combinations:\n",
    "  * Wii and Sports, Misc\n",
    "  * X360 and Shooter, Action\n",
    "  * PS2, PS3 and Action \n",
    "  \n",
    "The sum of the global sales have around the same scheme as the sales in EU, NA and other countries. Only in Japan the Genre Role-Playing seems to dominates on nearly all platforms. <br>\n",
    "**EU_Sales vs. NA_Sales(EU/NA)**: There could be a linear correlation altough very noisy, but especially if you zoom in there are data-points that line up nicely. <br>\n",
    "**NA_Sales vs. Global_Sales(global)**: There is certainly a linear correlation. <br>\n",
    "**EU_Sales vs. Global_Sales(global)**: Also a linear correlation but mayber weaker then NA_Sales vs. Global_Sales. <br>\n",
    "**JP_Sales vs. Global_Sales(global)**: This looks more like a strong non-linear relationship since mostly a game has high global sales or high sales in Japan, but not both. An exception are the most popular games. They seem to sell good both in Japan as well as global."
   ]
  },
  {
   "cell_type": "code",
   "execution_count": 18,
   "metadata": {},
   "outputs": [
    {
     "data": {
      "text/html": [
       "\n",
       "<div id=\"altair-viz-4ff6fc8b59194d369fdc08776bc1e6ca\"></div>\n",
       "<script type=\"text/javascript\">\n",
       "  (function(spec, embedOpt){\n",
       "    let outputDiv = document.currentScript.previousElementSibling;\n",
       "    if (outputDiv.id !== \"altair-viz-4ff6fc8b59194d369fdc08776bc1e6ca\") {\n",
       "      outputDiv = document.getElementById(\"altair-viz-4ff6fc8b59194d369fdc08776bc1e6ca\");\n",
       "    }\n",
       "    const paths = {\n",
       "      \"vega\": \"https://cdn.jsdelivr.net/npm//vega@5?noext\",\n",
       "      \"vega-lib\": \"https://cdn.jsdelivr.net/npm//vega-lib?noext\",\n",
       "      \"vega-lite\": \"https://cdn.jsdelivr.net/npm//vega-lite@4.8.1?noext\",\n",
       "      \"vega-embed\": \"https://cdn.jsdelivr.net/npm//vega-embed@6?noext\",\n",
       "    };\n",
       "\n",
       "    function loadScript(lib) {\n",
       "      return new Promise(function(resolve, reject) {\n",
       "        var s = document.createElement('script');\n",
       "        s.src = paths[lib];\n",
       "        s.async = true;\n",
       "        s.onload = () => resolve(paths[lib]);\n",
       "        s.onerror = () => reject(`Error loading script: ${paths[lib]}`);\n",
       "        document.getElementsByTagName(\"head\")[0].appendChild(s);\n",
       "      });\n",
       "    }\n",
       "\n",
       "    function showError(err) {\n",
       "      outputDiv.innerHTML = `<div class=\"error\" style=\"color:red;\">${err}</div>`;\n",
       "      throw err;\n",
       "    }\n",
       "\n",
       "    function displayChart(vegaEmbed) {\n",
       "      vegaEmbed(outputDiv, spec, embedOpt)\n",
       "        .catch(err => showError(`Javascript Error: ${err.message}<br>This usually means there's a typo in your chart specification. See the javascript console for the full traceback.`));\n",
       "    }\n",
       "\n",
       "    if(typeof define === \"function\" && define.amd) {\n",
       "      requirejs.config({paths});\n",
       "      require([\"vega-embed\"], displayChart, err => showError(`Error loading script: ${err.message}`));\n",
       "    } else if (typeof vegaEmbed === \"function\") {\n",
       "      displayChart(vegaEmbed);\n",
       "    } else {\n",
       "      loadScript(\"vega\")\n",
       "        .then(() => loadScript(\"vega-lite\"))\n",
       "        .then(() => loadScript(\"vega-embed\"))\n",
       "        .catch(showError)\n",
       "        .then(() => displayChart(vegaEmbed));\n",
       "    }\n",
       "  })({\"config\": {\"view\": {\"continuousWidth\": 400, \"continuousHeight\": 300}}, \"data\": {\"url\": \"http://localhost:17950/85e6dea2f9501e4f03b15632f0fca339.json\"}, \"mark\": \"bar\", \"encoding\": {\"color\": {\"type\": \"nominal\", \"field\": \"variable\", \"legend\": {\"title\": \"Sales per region\"}}, \"x\": {\"type\": \"quantitative\", \"field\": \"value\", \"title\": \"Sales\"}, \"y\": {\"type\": \"ordinal\", \"field\": \"platform\"}}, \"$schema\": \"https://vega.github.io/schema/vega-lite/v4.8.1.json\"}, {\"mode\": \"vega-lite\"});\n",
       "</script>"
      ],
      "text/plain": [
       "alt.Chart(...)"
      ]
     },
     "execution_count": 18,
     "metadata": {},
     "output_type": "execute_result"
    }
   ],
   "source": [
    "sales_platform = []\n",
    "col = ['NA_Sales', 'EU_Sales', 'JP_Sales', 'Other_Sales']\n",
    "platforms = data['Platform'].unique()\n",
    "for platform in platforms:\n",
    "    sales = data[col][data['Platform']==platform].sum()\n",
    "    platform = pd.Series({\"platform\": platform})\n",
    "    sales_platform.append(pd.concat([sales, platform]))\n",
    "    \n",
    "source = pd.DataFrame(sales_platform).melt(['platform'], col)\n",
    "\n",
    "alt.Chart(source).mark_bar().encode(\n",
    "    alt.Y('platform:O'),    # just changed from x= to this form so we have some nice axis labels\n",
    "    alt.X('value:Q', title=\"Sales\"), # not quite sure if the labels are fitting!\n",
    "    color=alt.Color('variable:N', legend=alt.Legend(title=\"Sales per region\"))\n",
    ")"
   ]
  },
  {
   "cell_type": "code",
   "execution_count": 19,
   "metadata": {},
   "outputs": [
    {
     "data": {
      "text/html": [
       "\n",
       "<div id=\"altair-viz-fad5b6d1ec4949d4b23948d16b877b3c\"></div>\n",
       "<script type=\"text/javascript\">\n",
       "  (function(spec, embedOpt){\n",
       "    let outputDiv = document.currentScript.previousElementSibling;\n",
       "    if (outputDiv.id !== \"altair-viz-fad5b6d1ec4949d4b23948d16b877b3c\") {\n",
       "      outputDiv = document.getElementById(\"altair-viz-fad5b6d1ec4949d4b23948d16b877b3c\");\n",
       "    }\n",
       "    const paths = {\n",
       "      \"vega\": \"https://cdn.jsdelivr.net/npm//vega@5?noext\",\n",
       "      \"vega-lib\": \"https://cdn.jsdelivr.net/npm//vega-lib?noext\",\n",
       "      \"vega-lite\": \"https://cdn.jsdelivr.net/npm//vega-lite@4.8.1?noext\",\n",
       "      \"vega-embed\": \"https://cdn.jsdelivr.net/npm//vega-embed@6?noext\",\n",
       "    };\n",
       "\n",
       "    function loadScript(lib) {\n",
       "      return new Promise(function(resolve, reject) {\n",
       "        var s = document.createElement('script');\n",
       "        s.src = paths[lib];\n",
       "        s.async = true;\n",
       "        s.onload = () => resolve(paths[lib]);\n",
       "        s.onerror = () => reject(`Error loading script: ${paths[lib]}`);\n",
       "        document.getElementsByTagName(\"head\")[0].appendChild(s);\n",
       "      });\n",
       "    }\n",
       "\n",
       "    function showError(err) {\n",
       "      outputDiv.innerHTML = `<div class=\"error\" style=\"color:red;\">${err}</div>`;\n",
       "      throw err;\n",
       "    }\n",
       "\n",
       "    function displayChart(vegaEmbed) {\n",
       "      vegaEmbed(outputDiv, spec, embedOpt)\n",
       "        .catch(err => showError(`Javascript Error: ${err.message}<br>This usually means there's a typo in your chart specification. See the javascript console for the full traceback.`));\n",
       "    }\n",
       "\n",
       "    if(typeof define === \"function\" && define.amd) {\n",
       "      requirejs.config({paths});\n",
       "      require([\"vega-embed\"], displayChart, err => showError(`Error loading script: ${err.message}`));\n",
       "    } else if (typeof vegaEmbed === \"function\") {\n",
       "      displayChart(vegaEmbed);\n",
       "    } else {\n",
       "      loadScript(\"vega\")\n",
       "        .then(() => loadScript(\"vega-lite\"))\n",
       "        .then(() => loadScript(\"vega-embed\"))\n",
       "        .catch(showError)\n",
       "        .then(() => displayChart(vegaEmbed));\n",
       "    }\n",
       "  })({\"config\": {\"view\": {\"continuousWidth\": 400, \"continuousHeight\": 300}}, \"data\": {\"url\": \"http://localhost:17950/29ecd326fe0e310002619a3daa5d262d.json\"}, \"mark\": \"bar\", \"encoding\": {\"x\": {\"type\": \"quantitative\", \"field\": \"value\", \"title\": \"Critic_Score\"}, \"y\": {\"type\": \"ordinal\", \"field\": \"platform\"}}, \"title\": \"critic score per platform\", \"$schema\": \"https://vega.github.io/schema/vega-lite/v4.8.1.json\"}, {\"mode\": \"vega-lite\"});\n",
       "</script>"
      ],
      "text/plain": [
       "alt.Chart(...)"
      ]
     },
     "execution_count": 19,
     "metadata": {},
     "output_type": "execute_result"
    }
   ],
   "source": [
    "critic_score_platform = []\n",
    "col = ['Critic_Score']\n",
    "platforms = c_data['Platform'].unique()\n",
    "for platform in platforms:\n",
    "    weights = c_data.Critic_Count[c_data['Platform']==platform] # get the User Counts as weights\n",
    "    Critic_Score = c_data[col][c_data['Platform']==platform] # get all relevant Critic scores\n",
    "    Critic_Score = (Critic_Score.multiply(weights, axis=\"index\")/data.Critic_Count.sum()).mean()\n",
    "    platform = pd.Series({\"platform\": platform})\n",
    "    critic_score_platform.append(pd.concat([Critic_Score, platform]))\n",
    "    \n",
    "source = pd.DataFrame(critic_score_platform).melt(['platform'], col)\n",
    "\n",
    "alt.Chart(source).mark_bar().encode(\n",
    "    alt.Y('platform:O'),    # just changed from x= to this form so we have some nice axis labels\n",
    "    alt.X('value:Q', title=\"Critic_Score\"),\n",
    ").properties(title=\"critic score per platform\")"
   ]
  },
  {
   "cell_type": "code",
   "execution_count": 20,
   "metadata": {},
   "outputs": [
    {
     "data": {
      "text/html": [
       "\n",
       "<div id=\"altair-viz-4720463f5c6545e5a28fd8dc079efaff\"></div>\n",
       "<script type=\"text/javascript\">\n",
       "  (function(spec, embedOpt){\n",
       "    let outputDiv = document.currentScript.previousElementSibling;\n",
       "    if (outputDiv.id !== \"altair-viz-4720463f5c6545e5a28fd8dc079efaff\") {\n",
       "      outputDiv = document.getElementById(\"altair-viz-4720463f5c6545e5a28fd8dc079efaff\");\n",
       "    }\n",
       "    const paths = {\n",
       "      \"vega\": \"https://cdn.jsdelivr.net/npm//vega@5?noext\",\n",
       "      \"vega-lib\": \"https://cdn.jsdelivr.net/npm//vega-lib?noext\",\n",
       "      \"vega-lite\": \"https://cdn.jsdelivr.net/npm//vega-lite@4.8.1?noext\",\n",
       "      \"vega-embed\": \"https://cdn.jsdelivr.net/npm//vega-embed@6?noext\",\n",
       "    };\n",
       "\n",
       "    function loadScript(lib) {\n",
       "      return new Promise(function(resolve, reject) {\n",
       "        var s = document.createElement('script');\n",
       "        s.src = paths[lib];\n",
       "        s.async = true;\n",
       "        s.onload = () => resolve(paths[lib]);\n",
       "        s.onerror = () => reject(`Error loading script: ${paths[lib]}`);\n",
       "        document.getElementsByTagName(\"head\")[0].appendChild(s);\n",
       "      });\n",
       "    }\n",
       "\n",
       "    function showError(err) {\n",
       "      outputDiv.innerHTML = `<div class=\"error\" style=\"color:red;\">${err}</div>`;\n",
       "      throw err;\n",
       "    }\n",
       "\n",
       "    function displayChart(vegaEmbed) {\n",
       "      vegaEmbed(outputDiv, spec, embedOpt)\n",
       "        .catch(err => showError(`Javascript Error: ${err.message}<br>This usually means there's a typo in your chart specification. See the javascript console for the full traceback.`));\n",
       "    }\n",
       "\n",
       "    if(typeof define === \"function\" && define.amd) {\n",
       "      requirejs.config({paths});\n",
       "      require([\"vega-embed\"], displayChart, err => showError(`Error loading script: ${err.message}`));\n",
       "    } else if (typeof vegaEmbed === \"function\") {\n",
       "      displayChart(vegaEmbed);\n",
       "    } else {\n",
       "      loadScript(\"vega\")\n",
       "        .then(() => loadScript(\"vega-lite\"))\n",
       "        .then(() => loadScript(\"vega-embed\"))\n",
       "        .catch(showError)\n",
       "        .then(() => displayChart(vegaEmbed));\n",
       "    }\n",
       "  })({\"config\": {\"view\": {\"continuousWidth\": 400, \"continuousHeight\": 300}}, \"data\": {\"url\": \"http://localhost:17950/16cff14f353d9c277013503a4b7a4093.json\"}, \"mark\": \"bar\", \"encoding\": {\"x\": {\"type\": \"quantitative\", \"field\": \"value\", \"title\": \"User_Score weighted by User_Count\"}, \"y\": {\"type\": \"ordinal\", \"field\": \"platform\"}}, \"title\": \"user_score per platform\", \"$schema\": \"https://vega.github.io/schema/vega-lite/v4.8.1.json\"}, {\"mode\": \"vega-lite\"});\n",
       "</script>"
      ],
      "text/plain": [
       "alt.Chart(...)"
      ]
     },
     "execution_count": 20,
     "metadata": {},
     "output_type": "execute_result"
    }
   ],
   "source": [
    "user_score_platform = []\n",
    "col = ['User_Score']\n",
    "platforms = c_data['Platform'].unique()\n",
    "for platform in platforms:\n",
    "    weights = c_data.User_Count[c_data['Platform']==platform] # get the User Counts as weights\n",
    "    User_Score = c_data[col][c_data['Platform']==platform] # get all relevant User scores\n",
    "    User_Score = (User_Score.multiply(weights, axis=\"index\")/data.User_Count.sum()).mean() # calculate the weighted mean with the weights averaged over the\n",
    "    platform = pd.Series({\"platform\": platform})                                           # the sum of the whole dataset\n",
    "    user_score_platform.append(pd.concat([User_Score, platform]))\n",
    "    \n",
    "source = pd.DataFrame(user_score_platform).melt(['platform'], col)\n",
    "\n",
    "alt.Chart(source).mark_bar().encode(\n",
    "    alt.Y('platform:O'),    # just changed from x= to this form so we have some nice axis labels\n",
    "    alt.X('value:Q', title=\"User_Score weighted by User_Count\"),\n",
    ").properties(title=\"user_score per platform\")"
   ]
  },
  {
   "cell_type": "markdown",
   "metadata": {},
   "source": [
    "# Clustering with feature reduction\n",
    "\n",
    "Finally, we want to cluster our data. Since we have multidimensional data, we perform feature reduction using t-SNE or PCA respectively to cast the data onto 2 dimensions. We consider the features EU/NA/FP/Other Sales, since they are the only numerical features. As categories for the clusters, we selected Genre and Platform."
   ]
  },
  {
   "cell_type": "code",
   "execution_count": 21,
   "metadata": {},
   "outputs": [],
   "source": [
    "from sklearn.preprocessing import StandardScaler\n",
    "from sklearn.decomposition import PCA\n",
    "from sklearn.manifold import TSNE\n",
    "from matplotlib import pyplot as plt\n",
    "\n",
    "features= [\"EU_Sales\", \"NA_Sales\", \"JP_Sales\", \"Other_Sales\"]\n",
    "num_data = data[features].values\n",
    "\n",
    "num_data = StandardScaler().fit_transform(num_data)"
   ]
  },
  {
   "cell_type": "code",
   "execution_count": 22,
   "metadata": {},
   "outputs": [
    {
     "data": {
      "application/vnd.jupyter.widget-view+json": {
       "model_id": "13d3ff66430141c6ba4c15a8e5e66af5",
       "version_major": 2,
       "version_minor": 0
      },
      "text/plain": [
       "interactive(children=(Dropdown(description='method', options=('pca', 't-sne'), value='pca'), Dropdown(descript…"
      ]
     },
     "metadata": {},
     "output_type": "display_data"
    }
   ],
   "source": [
    "@widgets.interact(method = [\"pca\", \"t-sne\"], category = [\"Genre\", \"Platform\"])\n",
    "\n",
    "def show_plot(method, category):\n",
    "    if method == \"pca\":\n",
    "        pca = PCA(n_components=2)\n",
    "        principalComponents = pca.fit_transform(num_data)\n",
    "        principalDf = pd.DataFrame(data = principalComponents, columns = ['comp1', 'comp2'])\n",
    "        data_col = data[[category, \"Name\"]+features]\n",
    "        principalDf.reset_index(drop=True, inplace=True)\n",
    "        data_col.reset_index(drop=True, inplace=True)\n",
    "        finalDf = pd.concat([principalDf, data_col], axis = 1)\n",
    "    elif method == \"t-sne\":\n",
    "        tsne = TSNE(n_components=2)\n",
    "        tsneComp = tsne.fit_transform(num_data)\n",
    "        tsneDf = pd.DataFrame(data = tsneComp, columns = ['comp1', 'comp2'])\n",
    "        data_col = data[[category, \"Name\"]+features]\n",
    "        tsneDf.reset_index(drop=True, inplace=True)\n",
    "        data_col.reset_index(drop=True, inplace=True)\n",
    "        finalDf = pd.concat([tsneDf, data_col], axis = 1)\n",
    "    \n",
    "    selection = alt.selection_multi(fields=[f'{category}'])\n",
    "    color = alt.condition(selection,alt.Color(f'{category}:N', legend=None),alt.value('lightgray'))\n",
    "    opacity = alt.condition(selection, alt.value(0.7), alt.value(0))\n",
    "    \n",
    "    scatter = alt.Chart(finalDf).mark_circle(size=60).encode(\n",
    "        x=\"comp1\",\n",
    "        y=\"comp2\",\n",
    "        color=color,\n",
    "        opacity=opacity,\n",
    "        tooltip= [\"Name:N\"]+features\n",
    "        ).interactive()\n",
    "    \n",
    "    legend = alt.Chart(finalDf).mark_point().encode(\n",
    "        y=alt.Y(f'{category}:N', axis=alt.Axis(orient='right')),\n",
    "        color=color\n",
    "    ).add_selection(selection)\n",
    "    return scatter | legend"
   ]
  },
  {
   "cell_type": "markdown",
   "metadata": {},
   "source": [
    "## First insights\n",
    "It is easy to see that the second component of PCA separates the Japanese game market from the Western market, which indicates a different purchase and gaming behaviour based on the players' cultures. Positive values lean to higher market share in Japan and negative values to higher market share in the Western market. The first component in the meanwhile shows the magnitude of sales. Lastly, it is clearly visible that European and Northern American gamers have similar preferences in games and the market is very similar.\n",
    "\n",
    "After playing around with the selection tool, we found following deeper insights:"
   ]
  },
  {
   "cell_type": "markdown",
   "metadata": {},
   "source": [
    "- num_data = data[[\"EU_Sales\", \"NA_Sales\", \"JP_Sales\", \"Other_Sales\"]], pca, Genre <br>\n",
    "    comp2 seems to split the data according to their sales, positive means more sales in JP and negative means more Sales in NA/EU (East vs. West) <br>\n",
    "    further away from 0 -> more sales <br>\n",
    "    e.g.: X360 is primarily western oriented, while 3DS caters more to the Japan market. <br>\n",
    "    role-playing seems more dominant in Japan, while shooter are more dominant on the western market <br>\n"
   ]
  },
  {
   "cell_type": "code",
   "execution_count": 23,
   "metadata": {},
   "outputs": [
    {
     "data": {
      "application/vnd.jupyter.widget-view+json": {
       "model_id": "2941dde64ec74186b5948fb89e85f859",
       "version_major": 2,
       "version_minor": 0
      },
      "text/plain": [
       "interactive(children=(Dropdown(description='plot', options=('Genres and Cultures', '3DS vs. X360'), value='Gen…"
      ]
     },
     "metadata": {},
     "output_type": "display_data"
    }
   ],
   "source": [
    "@widgets.interact(plot = [\"Genres and Cultures\", \"3DS vs. X360\"])\n",
    "\n",
    "def show_plot(plot):\n",
    "    if plot == \"Genres and Cultures\":\n",
    "        category = \"Genre\"\n",
    "    if plot == \"3DS vs. X360\":\n",
    "        category = \"Platform\"\n",
    "        \n",
    "    pca = PCA(n_components=2)\n",
    "    principalComponents = pca.fit_transform(num_data)\n",
    "    principalDf = pd.DataFrame(data = principalComponents, columns = ['comp1', 'comp2'])\n",
    "    data_col = data[[category, \"Name\"]+features]\n",
    "    principalDf.reset_index(drop=True, inplace=True)\n",
    "    data_col.reset_index(drop=True, inplace=True)\n",
    "    finalDf = pd.concat([principalDf, data_col], axis = 1)\n",
    "    \n",
    "    if plot == \"Genres and Cultures\":\n",
    "        finalDf = finalDf.loc[(finalDf[\"Genre\"] == \"Shooter\") | (finalDf[\"Genre\"] == \"Role-Playing\")]\n",
    "    if plot == \"3DS vs. X360\":\n",
    "        finalDf = finalDf.loc[(finalDf[\"Platform\"] == \"3DS\") | (finalDf[\"Platform\"] == \"X360\")]\n",
    "        \n",
    "    color = alt.Color(f'{category}:N', legend=None)\n",
    "    \n",
    "    scatter = alt.Chart(finalDf).mark_circle(size=60).encode(\n",
    "        x=\"comp1\",\n",
    "        y=\"comp2\",\n",
    "        color=color,\n",
    "        tooltip= [\"Name:N\"]+features\n",
    "        ).interactive()\n",
    "    \n",
    "    legend = alt.Chart(finalDf).mark_point().encode(\n",
    "        y=alt.Y(f'{category}:N', axis=alt.Axis(orient='right')),\n",
    "        color=color\n",
    "    )\n",
    "    return scatter | legend"
   ]
  },
  {
   "cell_type": "code",
   "execution_count": 24,
   "metadata": {},
   "outputs": [
    {
     "data": {
      "application/vnd.jupyter.widget-view+json": {
       "model_id": "c960c011cf084579b5033fd9d01f2be3",
       "version_major": 2,
       "version_minor": 0
      },
      "text/plain": [
       "interactive(children=(Dropdown(description='dimension', options=('pca', 't-sne'), value='pca'), Dropdown(descr…"
      ]
     },
     "metadata": {},
     "output_type": "display_data"
    }
   ],
   "source": [
    "from sklearn.cluster import KMeans\n",
    "import sklearn.model_selection\n",
    "from sklearn.tree import DecisionTreeClassifier\n",
    "from sklearn import manifold\n",
    "\n",
    "@widgets.interact(dimension = [\"pca\", \"t-sne\"],\n",
    "                  clustering = [\"k-means\", \"decision_trees\"],\n",
    "                  target_dt = [\"Genre\", \"Platform\", \"Rating\", \"Global_Sales\"],\n",
    "                  n_cluster_kmeans = widgets.BoundedIntText(min=2,max=7))\n",
    "def show_plot(dimension, clustering, target_dt, n_cluster_kmeans): \n",
    "    \n",
    "    features= [\"Platform\", \"Year_of_Release\", 'Genre', \"Global_Sales\", \"NA_Sales\", \"EU_Sales\", \"JP_Sales\", \"Other_Sales\", \"Rating\", \"Critic_Score\",\n",
    "           \"User_Score\", \"Critic_Count\", \"User_Count\"] # excluded Name, Publisher, Developer\n",
    "    a_features= [\"Platform:N\", \"Year_of_Release:O\", 'Genre:N', \"Global_Sales:Q\", \"NA_Sales:Q\", \"EU_Sales:Q\", \"JP_Sales:Q\", \"Other_Sales:Q\", \"Rating:N\", \"Critic_Score:Q\",\n",
    "           \"User_Score:Q\", \"Critic_Count:Q\", \"User_Count:Q\"]\n",
    "    \n",
    "    if clustering == \"k-means\":\n",
    "        encoded_data = pd.get_dummies(data[features])\n",
    "        pred = KMeans(n_clusters=n_cluster_kmeans, random_state=7).fit_predict(encoded_data)\n",
    "        r_data = data\n",
    "    \n",
    "    elif clustering == \"decision_trees\":\n",
    "        \n",
    "        encoded_data = pd.get_dummies(c_data[[x for x in features if x!=target_dt]])\n",
    "        instance = DecisionTreeClassifier()\n",
    "        r = instance.fit(encoded_data, c_data[target_dt])\n",
    "        pred = instance.predict(encoded_data)\n",
    "        r_data = c_data\n",
    "        \n",
    "    if dimension == \"pca\":\n",
    "        pca = PCA(n_components=2, random_state=7)\n",
    "        principalComponents = pca.fit_transform(encoded_data)\n",
    "        principalDf = pd.DataFrame(data = principalComponents, columns = ['comp1', 'comp2'])\n",
    "        data_col = r_data[[\"Name\"]+features]\n",
    "        principalDf.reset_index(drop=True, inplace=True)\n",
    "        data_col.reset_index(drop=True, inplace=True)\n",
    "        finalDf = pd.concat([principalDf, data_col], axis = 1)\n",
    "        \n",
    "    elif dimension == \"t-sne\":\n",
    "        tsne = TSNE(n_components=2, random_state=7, n_jobs=4)\n",
    "        tsneComp = tsne.fit_transform(encoded_data)\n",
    "        tsneDf = pd.DataFrame(data = tsneComp, columns = ['comp1', 'comp2'])\n",
    "        data_col = r_data[[\"Name\"]+features]\n",
    "        tsneDf.reset_index(drop=True, inplace=True)\n",
    "        data_col.reset_index(drop=True, inplace=True)\n",
    "        finalDf = pd.concat([tsneDf, data_col], axis = 1)    \n",
    "        \n",
    "    finalDf[\"predict\"]=pred\n",
    "    \n",
    "    selection = alt.selection_multi(fields=[\"predict\"])\n",
    "    color = alt.condition(selection,alt.Color(\"predict:N\", legend=None),alt.value('lightgray'))\n",
    "    opacity = alt.condition(selection, alt.value(0.7), alt.value(0))\n",
    "        \n",
    "    scatter = alt.Chart(finalDf).mark_circle(size=60).encode(\n",
    "        x=\"comp1\",\n",
    "        y=\"comp2\",\n",
    "        color=color,\n",
    "        opacity=opacity,\n",
    "        tooltip= [\"Name:N\"]+a_features\n",
    "        ).interactive()\n",
    "    \n",
    "    legend = alt.Chart(finalDf).mark_point().encode(\n",
    "        y=alt.Y('predict:N', axis=alt.Axis(orient='right')),\n",
    "        color=color\n",
    "    ).add_selection(selection)\n",
    "    return scatter | legend"
   ]
  },
  {
   "cell_type": "markdown",
   "metadata": {},
   "source": [
    "### 1. Genres of games in different countries\n",
    "\n",
    "Due to either cultural preferences or different marketing targeting, Shooter games are prevalent in the Western market, while Role-Playing games dominate the Japanese market.\n",
    "\n",
    "### 2. Different adaption of gaming consoles\n",
    "\n",
    "There is a big difference in the market share of some consoles depending on the market. Particularly outstanding is the difference in adoption of the Nintendo 3DS and the Microsoft XBOX 360. This might be due to the Origin of the consoles (Japan vs. USA) or the marketing in the respective countries."
   ]
  },
  {
   "cell_type": "code",
   "execution_count": null,
   "metadata": {},
   "outputs": [],
   "source": []
  }
 ],
 "metadata": {
  "kernelspec": {
   "display_name": "Python 3 (ipykernel)",
   "language": "python",
   "name": "python3"
  },
  "language_info": {
   "codemirror_mode": {
    "name": "ipython",
    "version": 3
   },
   "file_extension": ".py",
   "mimetype": "text/x-python",
   "name": "python",
   "nbconvert_exporter": "python",
   "pygments_lexer": "ipython3",
   "version": "3.10.1"
  }
 },
 "nbformat": 4,
 "nbformat_minor": 4
}
