{
 "cells": [
  {
   "cell_type": "markdown",
   "metadata": {
    "tags": []
   },
   "source": [
    "# Data\n",
    "The original dataset consists of sales numbers of video games until 2016 webscraped from the website [VGchartz](https://bit.ly/3rmrGlt) by [Gregory Smithy](https://www.kaggle.com/gregorut)  and was further expanded with data about critics numbers webscraped from [Metacritics](https://bit.ly/3ts9V6J) by [Rush Kirubi](https://www.kaggle.com/rush4ratio). <br>\n",
    "The dataset itself is from [kaggle](https://www.kaggle.com/rush4ratio/video-game-sales-with-ratings) and has following fields: <br>\n",
    "\n",
    "| field        | description \n",
    "| -----------  | ------ \n",
    "| Rank         | Ranking of overall sales \n",
    "| Name         | The games name \n",
    "| Platform     | Platform of the games release (i.e. PC,PS4, etc.) \n",
    "| Year_of_Release| Year of the game's release \n",
    "| Genre        | Genre of the game \n",
    "| Publisher    | Publisher of the game \n",
    "| NA_Sales     | Sales in North America (in millions) |\n",
    "| EU_Sales     | Sales in Europe (in millions) |\n",
    "| JP_Sales     | Sales in Japan (in millions) |\n",
    "| Other_Sales  | Sales in the rest of the world (in millions) |\n",
    "| Global_Sales | Total worldwide sales. |\n",
    "| Critic_Score | Aggregate score compiled by Metacritic staff |\n",
    "| Critic_Count | The number of critics used in coming up with the Criticscore |\n",
    "| User_Score | Score by Metacritic's subscribers |\n",
    "| User_Count | Number of users who gave the userscore |\n",
    "| Developer | Party responsible for creating the game |\n",
    "| Rating | The [ESRB](https://www.esrb.org/) ratings: A rating for age recommendations |"
   ]
  },
  {
   "cell_type": "markdown",
   "metadata": {
    "tags": []
   },
   "source": [
    "# Imports"
   ]
  },
  {
   "cell_type": "code",
   "execution_count": 1,
   "metadata": {},
   "outputs": [],
   "source": [
    "#disable some annoying warnings\n",
    "import warnings\n",
    "warnings.filterwarnings('ignore', category=FutureWarning)\n",
    "\n",
    "#plots the figures in place instead of a new window\n",
    "%matplotlib inline\n",
    "\n",
    "import pandas as pd\n",
    "import numpy as np\n",
    "\n",
    "import altair as alt\n",
    "from altair_data_server import data_server\n",
    "\n",
    "import ipywidgets as widgets"
   ]
  },
  {
   "cell_type": "markdown",
   "metadata": {},
   "source": [
    "# Load Data\n",
    "Following 2 cells load the dataset and clean it. Since only the features regarding the critic-scores are missing values, we use the uncleaned dataset(data) for graphs regarding sales and the cleaned version (c_data) for graphs regarding critic scores."
   ]
  },
  {
   "cell_type": "code",
   "execution_count": 2,
   "metadata": {},
   "outputs": [
    {
     "name": "stdout",
     "output_type": "stream",
     "text": [
      "The dataset has 16719 entries\n"
     ]
    }
   ],
   "source": [
    "# we load the Video_Game_Sales dataset with data_server, to process the large amount of data\n",
    "alt.data_transformers.enable('data_server')\n",
    "data = pd.read_csv('data/Video_Games_Sales_as_at_22_Dec_2016.csv')\n",
    "original_len = len(data)\n",
    "print(f'The dataset has {len(data)} entries')"
   ]
  },
  {
   "cell_type": "markdown",
   "metadata": {},
   "source": [
    "# Clean Data"
   ]
  },
  {
   "cell_type": "code",
   "execution_count": 3,
   "metadata": {},
   "outputs": [
    {
     "name": "stdout",
     "output_type": "stream",
     "text": [
      "The dataset has 16446 entries, dropped 273.\n",
      "The cleaned dataset has 9766 entries, dropped 6953.\n"
     ]
    },
    {
     "name": "stderr",
     "output_type": "stream",
     "text": [
      "/tmp/ipykernel_19482/1249799491.py:5: SettingWithCopyWarning: \n",
      "A value is trying to be set on a copy of a slice from a DataFrame\n",
      "\n",
      "See the caveats in the documentation: https://pandas.pydata.org/pandas-docs/stable/user_guide/indexing.html#returning-a-view-versus-a-copy\n",
      "  data.User_Score[data.User_Score == \"tbd\"] = np.nan\n"
     ]
    }
   ],
   "source": [
    "# drop entries with invalid entries for Year of release\n",
    "data = data.drop(data[data.Year_of_Release > 2016].index)\n",
    "data = data.drop(data[data.Year_of_Release.isnull()].index)\n",
    "# since some string values landed in User_Score, replace them with nan\n",
    "data.User_Score[data.User_Score == \"tbd\"] = np.nan\n",
    "data['User_Score'] = pd.to_numeric(data['User_Score'], downcast=\"float\")\n",
    "#fill in NaN values with average for User_Score, Critic_Score\n",
    "data.User_Score.fillna(value=np.around(data.User_Score.median(),2), inplace=True)\n",
    "data.Critic_Score.fillna(value=np.around(data.Critic_Score.median(),2), inplace=True)\n",
    "data.User_Count.fillna(np.around(data.User_Count.median(),2), inplace=True)\n",
    "data.Critic_Count.fillna(np.around(data.Critic_Count.median(),2), inplace=True)\n",
    "#data.Developer.fillna(value=\"nan\", inplace=True)\n",
    "#data.Publisher.fillna(value=\"nan\", inplace=True)\n",
    "#data.Rating.fillna(value=\"Nan\", inplace=True)\n",
    "#data.User_Score.fillna(value=data.User_Score.mean(), inplace=True)\n",
    "# clean up data\n",
    "c_data = data.copy()\n",
    "c_data = c_data.dropna()\n",
    "# User_Score's datatype is object, but we want it to be float!\n",
    "# --> clean User_Score\n",
    "\n",
    "print(f'The dataset has {len(data)} entries, dropped {original_len-len(data)}.')\n",
    "print(f'The cleaned dataset has {len(c_data)} entries, dropped {original_len-len(c_data)}.')"
   ]
  },
  {
   "cell_type": "markdown",
   "metadata": {
    "tags": []
   },
   "source": [
    "# Histograms\n",
    "To look at the distribution of the data in respect to each feature, following histograms can be printed:"
   ]
  },
  {
   "cell_type": "code",
   "execution_count": 22,
   "metadata": {
    "tags": []
   },
   "outputs": [
    {
     "data": {
      "application/vnd.jupyter.widget-view+json": {
       "model_id": "5f040f615580413cb00d79bc9596e9b5",
       "version_major": 2,
       "version_minor": 0
      },
      "text/plain": [
       "interactive(children=(Dropdown(description='x', options=('Platform:N', 'Year_of_Release:O', 'Genre:N', 'Global…"
      ]
     },
     "metadata": {},
     "output_type": "display_data"
    }
   ],
   "source": [
    "@widgets.interact(x = [\"Platform:N\", \"Year_of_Release:O\", 'Genre:N', \"Global_Sales:Q\", \"NA_Sales:Q\", \"EU_Sales:Q\", \"JP_Sales:Q\", \"Other_Sales:Q\",\n",
    "                      \"Rating:N\", \"Critic_Score:Q\", \"User_Score:Q\", \"Critic_Count:Q\", \"User_Count:Q\"], \n",
    "                  to_bin=[False, True],\n",
    "                  scale=[\"linear\", \"log\"],\n",
    "                  bin_size = widgets.IntSlider())\n",
    "def show_plot(x, to_bin, scale, bin_size):\n",
    "    # You have to return the chart to make it visible.\n",
    "    return alt.Chart(data).mark_bar().encode(\n",
    "    alt.X(x, bin=alt.Bin(step=bin_size) if to_bin else False),\n",
    "    alt.Y('count()', scale=alt.Scale(type=scale))\n",
    "    ).properties(title=f\"Histogramm of {x[:-2]}\").interactive()"
   ]
  },
  {
   "attachments": {},
   "cell_type": "markdown",
   "metadata": {
    "tags": []
   },
   "source": [
    "Looking at the histograms, all features are mostly skewed. <br>\n",
    "**_Sales**: \n",
    "Especially the features concerning the sales are heavily scewed, indicating that we have a few games that are sold very often (10-30 million), while most games are sold between 0-1 million times. <br>\n",
    "**Platform:** The most dominant platform is PS2 and DS regarding games count, while \"old-gen\" consoles like PS3, Wii, X360 take the middle-field. Old platforms like the N64, NES and new ones like the PS4 and the XOne have few counts. <br>\n",
    "**Year of Release**: Most games were released in the year from 2002 to 2011. <br>\n",
    "**Genre**: The most commmon genre by far are action and Sports, while the other genre are more equal distributed. Only puzzle and strategy are not that common. <br>\n",
    "**Rating**: For rating there are nearly a half missing values, the most common one are E(everyone) and T(teen). <br>\n",
    "**_Score and _Count**: The most common value is the median, hence we introduced quite a bias for the histogramm. This is because of a lot of missing values for these features and the reason why we will use the \"c_data\" dataset for plots that focus on these features. <br>"
   ]
  },
  {
   "cell_type": "code",
   "execution_count": 5,
   "metadata": {},
   "outputs": [
    {
     "data": {
      "text/html": [
       "\n",
       "<div id=\"altair-viz-b3d51e75a561417e874beba41421b1a7\"></div>\n",
       "<script type=\"text/javascript\">\n",
       "  var VEGA_DEBUG = (typeof VEGA_DEBUG == \"undefined\") ? {} : VEGA_DEBUG;\n",
       "  (function(spec, embedOpt){\n",
       "    let outputDiv = document.currentScript.previousElementSibling;\n",
       "    if (outputDiv.id !== \"altair-viz-b3d51e75a561417e874beba41421b1a7\") {\n",
       "      outputDiv = document.getElementById(\"altair-viz-b3d51e75a561417e874beba41421b1a7\");\n",
       "    }\n",
       "    const paths = {\n",
       "      \"vega\": \"https://cdn.jsdelivr.net/npm//vega@5?noext\",\n",
       "      \"vega-lib\": \"https://cdn.jsdelivr.net/npm//vega-lib?noext\",\n",
       "      \"vega-lite\": \"https://cdn.jsdelivr.net/npm//vega-lite@4.17.0?noext\",\n",
       "      \"vega-embed\": \"https://cdn.jsdelivr.net/npm//vega-embed@6?noext\",\n",
       "    };\n",
       "\n",
       "    function maybeLoadScript(lib, version) {\n",
       "      var key = `${lib.replace(\"-\", \"\")}_version`;\n",
       "      return (VEGA_DEBUG[key] == version) ?\n",
       "        Promise.resolve(paths[lib]) :\n",
       "        new Promise(function(resolve, reject) {\n",
       "          var s = document.createElement('script');\n",
       "          document.getElementsByTagName(\"head\")[0].appendChild(s);\n",
       "          s.async = true;\n",
       "          s.onload = () => {\n",
       "            VEGA_DEBUG[key] = version;\n",
       "            return resolve(paths[lib]);\n",
       "          };\n",
       "          s.onerror = () => reject(`Error loading script: ${paths[lib]}`);\n",
       "          s.src = paths[lib];\n",
       "        });\n",
       "    }\n",
       "\n",
       "    function showError(err) {\n",
       "      outputDiv.innerHTML = `<div class=\"error\" style=\"color:red;\">${err}</div>`;\n",
       "      throw err;\n",
       "    }\n",
       "\n",
       "    function displayChart(vegaEmbed) {\n",
       "      vegaEmbed(outputDiv, spec, embedOpt)\n",
       "        .catch(err => showError(`Javascript Error: ${err.message}<br>This usually means there's a typo in your chart specification. See the javascript console for the full traceback.`));\n",
       "    }\n",
       "\n",
       "    if(typeof define === \"function\" && define.amd) {\n",
       "      requirejs.config({paths});\n",
       "      require([\"vega-embed\"], displayChart, err => showError(`Error loading script: ${err.message}`));\n",
       "    } else {\n",
       "      maybeLoadScript(\"vega\", \"5\")\n",
       "        .then(() => maybeLoadScript(\"vega-lite\", \"4.17.0\"))\n",
       "        .then(() => maybeLoadScript(\"vega-embed\", \"6\"))\n",
       "        .catch(showError)\n",
       "        .then(() => displayChart(vegaEmbed));\n",
       "    }\n",
       "  })({\"config\": {\"view\": {\"continuousWidth\": 400, \"continuousHeight\": 300}, \"title\": {\"anchor\": \"start\"}}, \"data\": {\"url\": \"http://localhost:20081/eb1a6701878a390cb7144f5c31848eb5.json\"}, \"mark\": {\"type\": \"bar\", \"width\": 20}, \"encoding\": {\"x\": {\"bin\": false, \"field\": \"Publisher\", \"sort\": \"-y\", \"type\": \"nominal\"}, \"y\": {\"aggregate\": \"count\", \"scale\": {\"type\": \"linear\"}, \"type\": \"quantitative\"}}, \"title\": \"Histogramm of Publisher\", \"width\": {\"step\": 25}, \"$schema\": \"https://vega.github.io/schema/vega-lite/v4.17.0.json\"}, {\"mode\": \"vega-lite\"});\n",
       "</script>"
      ],
      "text/plain": [
       "alt.Chart(...)"
      ]
     },
     "execution_count": 5,
     "metadata": {},
     "output_type": "execute_result"
    }
   ],
   "source": [
    "alt.Chart(data).mark_bar(width=20).encode(\n",
    "    alt.Y('count()', scale=alt.Scale(type='linear')),\n",
    "    alt.X(\"Publisher:N\", bin=False, sort= '-y'),\n",
    ").properties(width=alt.Step(25), title=\"Histogramm of Publisher\").configure_title(anchor=\"start\")"
   ]
  },
  {
   "cell_type": "markdown",
   "metadata": {
    "tags": []
   },
   "source": [
    "**Publisher**: Again the distribution is heavily skewed, with a few well-known names in the industrie at the top."
   ]
  },
  {
   "cell_type": "code",
   "execution_count": 6,
   "metadata": {},
   "outputs": [
    {
     "data": {
      "text/html": [
       "\n",
       "<div id=\"altair-viz-b63b507a2db54e9c9239f83d8e0ce1f1\"></div>\n",
       "<script type=\"text/javascript\">\n",
       "  var VEGA_DEBUG = (typeof VEGA_DEBUG == \"undefined\") ? {} : VEGA_DEBUG;\n",
       "  (function(spec, embedOpt){\n",
       "    let outputDiv = document.currentScript.previousElementSibling;\n",
       "    if (outputDiv.id !== \"altair-viz-b63b507a2db54e9c9239f83d8e0ce1f1\") {\n",
       "      outputDiv = document.getElementById(\"altair-viz-b63b507a2db54e9c9239f83d8e0ce1f1\");\n",
       "    }\n",
       "    const paths = {\n",
       "      \"vega\": \"https://cdn.jsdelivr.net/npm//vega@5?noext\",\n",
       "      \"vega-lib\": \"https://cdn.jsdelivr.net/npm//vega-lib?noext\",\n",
       "      \"vega-lite\": \"https://cdn.jsdelivr.net/npm//vega-lite@4.17.0?noext\",\n",
       "      \"vega-embed\": \"https://cdn.jsdelivr.net/npm//vega-embed@6?noext\",\n",
       "    };\n",
       "\n",
       "    function maybeLoadScript(lib, version) {\n",
       "      var key = `${lib.replace(\"-\", \"\")}_version`;\n",
       "      return (VEGA_DEBUG[key] == version) ?\n",
       "        Promise.resolve(paths[lib]) :\n",
       "        new Promise(function(resolve, reject) {\n",
       "          var s = document.createElement('script');\n",
       "          document.getElementsByTagName(\"head\")[0].appendChild(s);\n",
       "          s.async = true;\n",
       "          s.onload = () => {\n",
       "            VEGA_DEBUG[key] = version;\n",
       "            return resolve(paths[lib]);\n",
       "          };\n",
       "          s.onerror = () => reject(`Error loading script: ${paths[lib]}`);\n",
       "          s.src = paths[lib];\n",
       "        });\n",
       "    }\n",
       "\n",
       "    function showError(err) {\n",
       "      outputDiv.innerHTML = `<div class=\"error\" style=\"color:red;\">${err}</div>`;\n",
       "      throw err;\n",
       "    }\n",
       "\n",
       "    function displayChart(vegaEmbed) {\n",
       "      vegaEmbed(outputDiv, spec, embedOpt)\n",
       "        .catch(err => showError(`Javascript Error: ${err.message}<br>This usually means there's a typo in your chart specification. See the javascript console for the full traceback.`));\n",
       "    }\n",
       "\n",
       "    if(typeof define === \"function\" && define.amd) {\n",
       "      requirejs.config({paths});\n",
       "      require([\"vega-embed\"], displayChart, err => showError(`Error loading script: ${err.message}`));\n",
       "    } else {\n",
       "      maybeLoadScript(\"vega\", \"5\")\n",
       "        .then(() => maybeLoadScript(\"vega-lite\", \"4.17.0\"))\n",
       "        .then(() => maybeLoadScript(\"vega-embed\", \"6\"))\n",
       "        .catch(showError)\n",
       "        .then(() => displayChart(vegaEmbed));\n",
       "    }\n",
       "  })({\"config\": {\"view\": {\"continuousWidth\": 400, \"continuousHeight\": 300}, \"title\": {\"anchor\": \"start\"}}, \"data\": {\"url\": \"http://localhost:20081/94e11d3285a3267b24ab50d46d4a36d7.json\"}, \"mark\": {\"type\": \"bar\", \"width\": 20}, \"encoding\": {\"x\": {\"bin\": false, \"field\": \"0\", \"sort\": \"-y\", \"title\": \"Developer\", \"type\": \"nominal\"}, \"y\": {\"field\": \"1\", \"scale\": {\"type\": \"linear\"}, \"title\": \"Count of Records\", \"type\": \"quantitative\"}}, \"title\": \"Histogramm of Developer\", \"width\": {\"step\": 25}, \"$schema\": \"https://vega.github.io/schema/vega-lite/v4.17.0.json\"}, {\"mode\": \"vega-lite\"});\n",
       "</script>"
      ],
      "text/plain": [
       "alt.Chart(...)"
      ]
     },
     "execution_count": 6,
     "metadata": {},
     "output_type": "execute_result"
    }
   ],
   "source": [
    "uniq = c_data.Developer.unique()\n",
    "c = []\n",
    "for u in uniq:\n",
    "    c.append((u, c_data.Developer[c_data.Developer == u].count()))\n",
    "c_df = pd.DataFrame(c).sort_values(1, ascending=False)\n",
    "alt.Chart(c_df[:100]).mark_bar(width=20).encode(\n",
    "    alt.Y('1:Q', scale=alt.Scale(type='linear'), title= \"Count of Records\"),\n",
    "    alt.X(\"0:N\", bin=False, sort= '-y', title= \"Developer\"),\n",
    ").properties(width=alt.Step(25), title=\"Histogramm of Developer\").configure_title(anchor=\"start\")"
   ]
  },
  {
   "cell_type": "markdown",
   "metadata": {
    "tags": []
   },
   "source": [
    "**Developer**: For the developer it is the same as for the publisher, but the distribution doesn't drop down to nearly zero as fast compared to the publisher. One reason could be that most publisher have multiple developer working for them. For example take the publisher Electronic Arts, who has 4 different developer teams (EA Sports, EA Canada, EA Tiburon, Electronic Arts,..) as in-house developer."
   ]
  },
  {
   "cell_type": "markdown",
   "metadata": {
    "tags": []
   },
   "source": [
    "# Sales overview\n",
    "Get a overview of the sales, especially how the global sales is spread over the years and which platform/games are most sold."
   ]
  },
  {
   "cell_type": "code",
   "execution_count": 7,
   "metadata": {},
   "outputs": [
    {
     "data": {
      "text/html": [
       "\n",
       "<div id=\"altair-viz-4e29c0866a5a423fa446feb13983ddc7\"></div>\n",
       "<script type=\"text/javascript\">\n",
       "  var VEGA_DEBUG = (typeof VEGA_DEBUG == \"undefined\") ? {} : VEGA_DEBUG;\n",
       "  (function(spec, embedOpt){\n",
       "    let outputDiv = document.currentScript.previousElementSibling;\n",
       "    if (outputDiv.id !== \"altair-viz-4e29c0866a5a423fa446feb13983ddc7\") {\n",
       "      outputDiv = document.getElementById(\"altair-viz-4e29c0866a5a423fa446feb13983ddc7\");\n",
       "    }\n",
       "    const paths = {\n",
       "      \"vega\": \"https://cdn.jsdelivr.net/npm//vega@5?noext\",\n",
       "      \"vega-lib\": \"https://cdn.jsdelivr.net/npm//vega-lib?noext\",\n",
       "      \"vega-lite\": \"https://cdn.jsdelivr.net/npm//vega-lite@4.17.0?noext\",\n",
       "      \"vega-embed\": \"https://cdn.jsdelivr.net/npm//vega-embed@6?noext\",\n",
       "    };\n",
       "\n",
       "    function maybeLoadScript(lib, version) {\n",
       "      var key = `${lib.replace(\"-\", \"\")}_version`;\n",
       "      return (VEGA_DEBUG[key] == version) ?\n",
       "        Promise.resolve(paths[lib]) :\n",
       "        new Promise(function(resolve, reject) {\n",
       "          var s = document.createElement('script');\n",
       "          document.getElementsByTagName(\"head\")[0].appendChild(s);\n",
       "          s.async = true;\n",
       "          s.onload = () => {\n",
       "            VEGA_DEBUG[key] = version;\n",
       "            return resolve(paths[lib]);\n",
       "          };\n",
       "          s.onerror = () => reject(`Error loading script: ${paths[lib]}`);\n",
       "          s.src = paths[lib];\n",
       "        });\n",
       "    }\n",
       "\n",
       "    function showError(err) {\n",
       "      outputDiv.innerHTML = `<div class=\"error\" style=\"color:red;\">${err}</div>`;\n",
       "      throw err;\n",
       "    }\n",
       "\n",
       "    function displayChart(vegaEmbed) {\n",
       "      vegaEmbed(outputDiv, spec, embedOpt)\n",
       "        .catch(err => showError(`Javascript Error: ${err.message}<br>This usually means there's a typo in your chart specification. See the javascript console for the full traceback.`));\n",
       "    }\n",
       "\n",
       "    if(typeof define === \"function\" && define.amd) {\n",
       "      requirejs.config({paths});\n",
       "      require([\"vega-embed\"], displayChart, err => showError(`Error loading script: ${err.message}`));\n",
       "    } else {\n",
       "      maybeLoadScript(\"vega\", \"5\")\n",
       "        .then(() => maybeLoadScript(\"vega-lite\", \"4.17.0\"))\n",
       "        .then(() => maybeLoadScript(\"vega-embed\", \"6\"))\n",
       "        .catch(showError)\n",
       "        .then(() => displayChart(vegaEmbed));\n",
       "    }\n",
       "  })({\"config\": {\"view\": {\"continuousWidth\": 400, \"continuousHeight\": 300}, \"title\": {\"anchor\": \"start\"}}, \"data\": {\"url\": \"http://localhost:20081/4f9c74b1826f2b47cfc013579e78e816.json\"}, \"mark\": {\"type\": \"bar\", \"width\": 20}, \"encoding\": {\"x\": {\"bin\": false, \"field\": \"0\", \"sort\": \"-y\", \"title\": \"Developer\", \"type\": \"nominal\"}, \"y\": {\"field\": \"1\", \"scale\": {\"type\": \"linear\"}, \"title\": \"sum of global sales\", \"type\": \"quantitative\"}}, \"title\": \"Global Sales by Developer\", \"width\": {\"step\": 25}, \"$schema\": \"https://vega.github.io/schema/vega-lite/v4.17.0.json\"}, {\"mode\": \"vega-lite\"});\n",
       "</script>"
      ],
      "text/plain": [
       "alt.Chart(...)"
      ]
     },
     "execution_count": 7,
     "metadata": {},
     "output_type": "execute_result"
    }
   ],
   "source": [
    "uniq = c_data.Developer.unique()\n",
    "c = []\n",
    "for u in uniq:\n",
    "    c.append((u, c_data.Global_Sales[c_data.Developer == u].sum()))\n",
    "c_df = pd.DataFrame(c).sort_values(1, ascending=False)\n",
    "alt.Chart(c_df[:100]).mark_bar(width=20).encode(\n",
    "    alt.Y('1:Q', scale=alt.Scale(type='linear'), title = \"sum of global sales\"),\n",
    "    alt.X(\"0:N\", bin=False, sort= '-y', title = \"Developer\"),\n",
    ").properties(width=alt.Step(25), title=\"Global Sales by Developer\").configure_title(anchor=\"start\")"
   ]
  },
  {
   "cell_type": "markdown",
   "metadata": {
    "tags": []
   },
   "source": [
    "Now comparing this plot to the histogram before you can clearly see that the sales per developer correlates with the number of released games, as EA Sports, EA Canada, Ubisoft for example are at the top of each graph. Nintendo is clearly an exception since the 14 most sold games are from Nintendo and the global sales sum of these 14 games is around 500 million."
   ]
  },
  {
   "cell_type": "code",
   "execution_count": 8,
   "metadata": {},
   "outputs": [
    {
     "data": {
      "text/html": [
       "\n",
       "<div id=\"altair-viz-800400a59e92415d9fd7a3b2de6d652d\"></div>\n",
       "<script type=\"text/javascript\">\n",
       "  var VEGA_DEBUG = (typeof VEGA_DEBUG == \"undefined\") ? {} : VEGA_DEBUG;\n",
       "  (function(spec, embedOpt){\n",
       "    let outputDiv = document.currentScript.previousElementSibling;\n",
       "    if (outputDiv.id !== \"altair-viz-800400a59e92415d9fd7a3b2de6d652d\") {\n",
       "      outputDiv = document.getElementById(\"altair-viz-800400a59e92415d9fd7a3b2de6d652d\");\n",
       "    }\n",
       "    const paths = {\n",
       "      \"vega\": \"https://cdn.jsdelivr.net/npm//vega@5?noext\",\n",
       "      \"vega-lib\": \"https://cdn.jsdelivr.net/npm//vega-lib?noext\",\n",
       "      \"vega-lite\": \"https://cdn.jsdelivr.net/npm//vega-lite@4.17.0?noext\",\n",
       "      \"vega-embed\": \"https://cdn.jsdelivr.net/npm//vega-embed@6?noext\",\n",
       "    };\n",
       "\n",
       "    function maybeLoadScript(lib, version) {\n",
       "      var key = `${lib.replace(\"-\", \"\")}_version`;\n",
       "      return (VEGA_DEBUG[key] == version) ?\n",
       "        Promise.resolve(paths[lib]) :\n",
       "        new Promise(function(resolve, reject) {\n",
       "          var s = document.createElement('script');\n",
       "          document.getElementsByTagName(\"head\")[0].appendChild(s);\n",
       "          s.async = true;\n",
       "          s.onload = () => {\n",
       "            VEGA_DEBUG[key] = version;\n",
       "            return resolve(paths[lib]);\n",
       "          };\n",
       "          s.onerror = () => reject(`Error loading script: ${paths[lib]}`);\n",
       "          s.src = paths[lib];\n",
       "        });\n",
       "    }\n",
       "\n",
       "    function showError(err) {\n",
       "      outputDiv.innerHTML = `<div class=\"error\" style=\"color:red;\">${err}</div>`;\n",
       "      throw err;\n",
       "    }\n",
       "\n",
       "    function displayChart(vegaEmbed) {\n",
       "      vegaEmbed(outputDiv, spec, embedOpt)\n",
       "        .catch(err => showError(`Javascript Error: ${err.message}<br>This usually means there's a typo in your chart specification. See the javascript console for the full traceback.`));\n",
       "    }\n",
       "\n",
       "    if(typeof define === \"function\" && define.amd) {\n",
       "      requirejs.config({paths});\n",
       "      require([\"vega-embed\"], displayChart, err => showError(`Error loading script: ${err.message}`));\n",
       "    } else {\n",
       "      maybeLoadScript(\"vega\", \"5\")\n",
       "        .then(() => maybeLoadScript(\"vega-lite\", \"4.17.0\"))\n",
       "        .then(() => maybeLoadScript(\"vega-embed\", \"6\"))\n",
       "        .catch(showError)\n",
       "        .then(() => displayChart(vegaEmbed));\n",
       "    }\n",
       "  })({\"config\": {\"view\": {\"continuousWidth\": 400, \"continuousHeight\": 300}}, \"data\": {\"url\": \"http://localhost:20081/491d26767690a6d5d62a790009e655f5.json\"}, \"mark\": \"bar\", \"encoding\": {\"color\": {\"field\": \"variable\", \"legend\": {\"title\": \"Sales per region\"}, \"type\": \"nominal\"}, \"tooltip\": {\"aggregate\": \"sum\", \"field\": \"value\", \"type\": \"quantitative\"}, \"x\": {\"field\": \"year\", \"type\": \"ordinal\"}, \"y\": {\"field\": \"value\", \"title\": \"Sales\", \"type\": \"quantitative\"}}, \"title\": \"Sales per region by year\", \"$schema\": \"https://vega.github.io/schema/vega-lite/v4.17.0.json\"}, {\"mode\": \"vega-lite\"});\n",
       "</script>"
      ],
      "text/plain": [
       "alt.Chart(...)"
      ]
     },
     "execution_count": 8,
     "metadata": {},
     "output_type": "execute_result"
    }
   ],
   "source": [
    "sales_year = []\n",
    "col = ['NA_Sales', 'EU_Sales', 'JP_Sales', 'Other_Sales']\n",
    "for year in range(1980, 2017):\n",
    "    sales = data[col][data['Year_of_Release']==year].sum()\n",
    "    year = pd.Series({\"year\": year})\n",
    "    sales_year.append(pd.concat([sales, year]))\n",
    "    \n",
    "source = pd.DataFrame(sales_year).melt(['year'], col)\n",
    "\n",
    "alt.Chart(source).mark_bar().encode(\n",
    "    alt.X('year:O'),\n",
    "    alt.Y('value:Q', title=\"Sales\"),\n",
    "    alt.Tooltip('sum(value):Q'),\n",
    "    color=alt.Color('variable:N', legend=alt.Legend(title=\"Sales per region\"))\n",
    ").properties(title=\"Sales per region by year\")"
   ]
  },
  {
   "cell_type": "markdown",
   "metadata": {},
   "source": [
    "Clearly the video game market is increasingly growing, especially the games from the year 2006-2011 have the biggest global sales compared to the year 2012-2016, which indicates that old games stay relevant at least for a few years. Especially the Wii-platform was popular in these years which is also noticable in the following chart. Also the above Graph follows the shape of the Histogram of Year_of_Release, meaning again that more games released also means more sales. <br>\n",
    "Furter visible is the market-share with north-america being the biggest market, followed by Europe and Japan. The market in other regions seem to grow but is comparibly small. The drop of sales at the more recent years could be explained by old games or \"classic\" games being more popular and usually it takes some years for a game to establish as a \"classic\" game."
   ]
  },
  {
   "cell_type": "code",
   "execution_count": 9,
   "metadata": {
    "tags": []
   },
   "outputs": [
    {
     "data": {
      "text/html": [
       "<div>\n",
       "<style scoped>\n",
       "    .dataframe tbody tr th:only-of-type {\n",
       "        vertical-align: middle;\n",
       "    }\n",
       "\n",
       "    .dataframe tbody tr th {\n",
       "        vertical-align: top;\n",
       "    }\n",
       "\n",
       "    .dataframe thead th {\n",
       "        text-align: right;\n",
       "    }\n",
       "</style>\n",
       "<table border=\"1\" class=\"dataframe\">\n",
       "  <thead>\n",
       "    <tr style=\"text-align: right;\">\n",
       "      <th></th>\n",
       "      <th>Name</th>\n",
       "      <th>Platform</th>\n",
       "      <th>Year_of_Release</th>\n",
       "      <th>Genre</th>\n",
       "      <th>Publisher</th>\n",
       "      <th>NA_Sales</th>\n",
       "      <th>EU_Sales</th>\n",
       "      <th>JP_Sales</th>\n",
       "      <th>Other_Sales</th>\n",
       "      <th>Global_Sales</th>\n",
       "      <th>Critic_Score</th>\n",
       "      <th>Critic_Count</th>\n",
       "      <th>User_Score</th>\n",
       "      <th>User_Count</th>\n",
       "      <th>Developer</th>\n",
       "      <th>Rating</th>\n",
       "    </tr>\n",
       "  </thead>\n",
       "  <tbody>\n",
       "    <tr>\n",
       "      <th>0</th>\n",
       "      <td>Wii Sports</td>\n",
       "      <td>Wii</td>\n",
       "      <td>2006.0</td>\n",
       "      <td>Sports</td>\n",
       "      <td>Nintendo</td>\n",
       "      <td>41.36</td>\n",
       "      <td>28.96</td>\n",
       "      <td>3.77</td>\n",
       "      <td>8.45</td>\n",
       "      <td>82.53</td>\n",
       "      <td>76.0</td>\n",
       "      <td>51.0</td>\n",
       "      <td>8.0</td>\n",
       "      <td>322.0</td>\n",
       "      <td>Nintendo</td>\n",
       "      <td>E</td>\n",
       "    </tr>\n",
       "    <tr>\n",
       "      <th>13</th>\n",
       "      <td>Wii Fit</td>\n",
       "      <td>Wii</td>\n",
       "      <td>2007.0</td>\n",
       "      <td>Sports</td>\n",
       "      <td>Nintendo</td>\n",
       "      <td>8.92</td>\n",
       "      <td>8.03</td>\n",
       "      <td>3.60</td>\n",
       "      <td>2.15</td>\n",
       "      <td>22.70</td>\n",
       "      <td>80.0</td>\n",
       "      <td>63.0</td>\n",
       "      <td>7.7</td>\n",
       "      <td>146.0</td>\n",
       "      <td>Nintendo</td>\n",
       "      <td>E</td>\n",
       "    </tr>\n",
       "    <tr>\n",
       "      <th>2</th>\n",
       "      <td>Mario Kart Wii</td>\n",
       "      <td>Wii</td>\n",
       "      <td>2008.0</td>\n",
       "      <td>Racing</td>\n",
       "      <td>Nintendo</td>\n",
       "      <td>15.68</td>\n",
       "      <td>12.76</td>\n",
       "      <td>3.79</td>\n",
       "      <td>3.29</td>\n",
       "      <td>35.52</td>\n",
       "      <td>82.0</td>\n",
       "      <td>73.0</td>\n",
       "      <td>8.3</td>\n",
       "      <td>709.0</td>\n",
       "      <td>Nintendo</td>\n",
       "      <td>E</td>\n",
       "    </tr>\n",
       "    <tr>\n",
       "      <th>3</th>\n",
       "      <td>Wii Sports Resort</td>\n",
       "      <td>Wii</td>\n",
       "      <td>2009.0</td>\n",
       "      <td>Sports</td>\n",
       "      <td>Nintendo</td>\n",
       "      <td>15.61</td>\n",
       "      <td>10.93</td>\n",
       "      <td>3.28</td>\n",
       "      <td>2.95</td>\n",
       "      <td>32.77</td>\n",
       "      <td>80.0</td>\n",
       "      <td>73.0</td>\n",
       "      <td>8.0</td>\n",
       "      <td>192.0</td>\n",
       "      <td>Nintendo</td>\n",
       "      <td>E</td>\n",
       "    </tr>\n",
       "    <tr>\n",
       "      <th>14</th>\n",
       "      <td>Kinect Adventures!</td>\n",
       "      <td>X360</td>\n",
       "      <td>2010.0</td>\n",
       "      <td>Misc</td>\n",
       "      <td>Microsoft Game Studios</td>\n",
       "      <td>15.00</td>\n",
       "      <td>4.89</td>\n",
       "      <td>0.24</td>\n",
       "      <td>1.69</td>\n",
       "      <td>21.81</td>\n",
       "      <td>61.0</td>\n",
       "      <td>45.0</td>\n",
       "      <td>6.3</td>\n",
       "      <td>106.0</td>\n",
       "      <td>Good Science Studio</td>\n",
       "      <td>E</td>\n",
       "    </tr>\n",
       "  </tbody>\n",
       "</table>\n",
       "</div>"
      ],
      "text/plain": [
       "                  Name Platform  Year_of_Release   Genre  \\\n",
       "0           Wii Sports      Wii           2006.0  Sports   \n",
       "13             Wii Fit      Wii           2007.0  Sports   \n",
       "2       Mario Kart Wii      Wii           2008.0  Racing   \n",
       "3    Wii Sports Resort      Wii           2009.0  Sports   \n",
       "14  Kinect Adventures!     X360           2010.0    Misc   \n",
       "\n",
       "                 Publisher  NA_Sales  EU_Sales  JP_Sales  Other_Sales  \\\n",
       "0                 Nintendo     41.36     28.96      3.77         8.45   \n",
       "13                Nintendo      8.92      8.03      3.60         2.15   \n",
       "2                 Nintendo     15.68     12.76      3.79         3.29   \n",
       "3                 Nintendo     15.61     10.93      3.28         2.95   \n",
       "14  Microsoft Game Studios     15.00      4.89      0.24         1.69   \n",
       "\n",
       "    Global_Sales  Critic_Score  Critic_Count  User_Score  User_Count  \\\n",
       "0          82.53          76.0          51.0         8.0       322.0   \n",
       "13         22.70          80.0          63.0         7.7       146.0   \n",
       "2          35.52          82.0          73.0         8.3       709.0   \n",
       "3          32.77          80.0          73.0         8.0       192.0   \n",
       "14         21.81          61.0          45.0         6.3       106.0   \n",
       "\n",
       "              Developer Rating  \n",
       "0              Nintendo      E  \n",
       "13             Nintendo      E  \n",
       "2              Nintendo      E  \n",
       "3              Nintendo      E  \n",
       "14  Good Science Studio      E  "
      ]
     },
     "execution_count": 9,
     "metadata": {},
     "output_type": "execute_result"
    }
   ],
   "source": [
    "idx = []\n",
    "for year in range(2006,2011):\n",
    "    idx.append(data[data[\"Year_of_Release\"]==year][['Global_Sales']].idxmax().values[0])\n",
    "data.iloc[idx]"
   ]
  },
  {
   "cell_type": "markdown",
   "metadata": {},
   "source": [
    "# Find Correlations\n",
    "The goal is to find correlations between differnet features, at first particulary in the context of global and local sales."
   ]
  },
  {
   "cell_type": "code",
   "execution_count": 17,
   "metadata": {},
   "outputs": [
    {
     "data": {
      "application/vnd.jupyter.widget-view+json": {
       "model_id": "e8e749a3a4b94ac6bfcaccfb280b740a",
       "version_major": 2,
       "version_minor": 0
      },
      "text/plain": [
       "interactive(children=(Dropdown(description='x', options=('Platform:N', 'Year_of_Release:O', 'Genre:N', 'Global…"
      ]
     },
     "metadata": {},
     "output_type": "display_data"
    }
   ],
   "source": [
    "@widgets.interact(x = [\"Platform:N\", \"Year_of_Release:O\", 'Genre:N', \"Global_Sales:Q\", \"NA_Sales:Q\", \"EU_Sales:Q\", \"JP_Sales:Q\", \n",
    "                       \"Other_Sales:Q\", \"Rating:N\", \"Critic_Score:Q\", \"User_Score:Q\"], \n",
    "                  y = [\"Platform:N\", \"Year_of_Release:O\", 'Genre:N', \"Global_Sales:Q\", \"NA_Sales:Q\", \"EU_Sales:Q\", \"JP_Sales:Q\", \n",
    "                       \"Other_Sales:Q\", \"Rating:N\", \"Critic_Score:Q\", \"User_Score:Q\"],\n",
    "                  marker_size = [\"sum(Global_Sales):Q\", \"sum(NA_Sales):Q\", \"sum(EU_Sales):Q\", \"sum(JP_Sales):Q\" , \"sum(Other_Sales):Q\"])\n",
    "def show_plot(x,y,marker_size):\n",
    "    \n",
    "    return alt.Chart(data).mark_circle().encode(\n",
    "        alt.X(x, scale=alt.Scale(zero=False)),\n",
    "        alt.Y(y, scale=alt.Scale(zero=False)),\n",
    "        size = marker_size,\n",
    "        opacity = alt.value(0.8)\n",
    "        \n",
    ").configure_axis(grid=True).interactive()"
   ]
  },
  {
   "cell_type": "markdown",
   "metadata": {
    "tags": []
   },
   "source": [
    "**Platform vs. Year(global)**: In this graph you can nicely see that the platform are time bound as each platform was released in a certain year and got superseded by another platform (PS, PS2, PS3, PS4) after a certain time period. An exception is the PC, where the global sales are more constant but rather small compared to the console market. <br>\n",
    "**Platform vs. Genre(all)**: Looking for a clue what leads to a high global sale, we can see following combinations:\n",
    "  * Wii and Sports, Misc\n",
    "  * X360 and Shooter, Action\n",
    "  * PS2, PS3 and Action \n",
    "  \n",
    "The sum of the global sales have around the same scheme as the sales in EU, NA and other countries. Only in Japan the Genre Role-Playing seems to dominates on nearly all platforms. <br>\n",
    "**EU_Sales vs. NA_Sales(EU/NA)**: There could be a linear correlation altough very noisy, but especially if you zoom in there are data-points that line up nicely. <br>\n",
    "**NA_Sales vs. Global_Sales(global)**: There is certainly a linear correlation. <br>\n",
    "**EU_Sales vs. Global_Sales(global)**: Also a linear correlation but mayber weaker then NA_Sales vs. Global_Sales. <br>\n",
    "**JP_Sales vs. Global_Sales(global)**: This looks more like a strong non-linear relationship since mostly a game has high global sales or high sales in Japan, but not both. An exception are the most popular games. They seem to sell good both in Japan as well as global."
   ]
  },
  {
   "cell_type": "code",
   "execution_count": 18,
   "metadata": {},
   "outputs": [
    {
     "data": {
      "text/html": [
       "\n",
       "<div id=\"altair-viz-f58e0a7a9fc2469ba9c585dbc72cef24\"></div>\n",
       "<script type=\"text/javascript\">\n",
       "  var VEGA_DEBUG = (typeof VEGA_DEBUG == \"undefined\") ? {} : VEGA_DEBUG;\n",
       "  (function(spec, embedOpt){\n",
       "    let outputDiv = document.currentScript.previousElementSibling;\n",
       "    if (outputDiv.id !== \"altair-viz-f58e0a7a9fc2469ba9c585dbc72cef24\") {\n",
       "      outputDiv = document.getElementById(\"altair-viz-f58e0a7a9fc2469ba9c585dbc72cef24\");\n",
       "    }\n",
       "    const paths = {\n",
       "      \"vega\": \"https://cdn.jsdelivr.net/npm//vega@5?noext\",\n",
       "      \"vega-lib\": \"https://cdn.jsdelivr.net/npm//vega-lib?noext\",\n",
       "      \"vega-lite\": \"https://cdn.jsdelivr.net/npm//vega-lite@4.17.0?noext\",\n",
       "      \"vega-embed\": \"https://cdn.jsdelivr.net/npm//vega-embed@6?noext\",\n",
       "    };\n",
       "\n",
       "    function maybeLoadScript(lib, version) {\n",
       "      var key = `${lib.replace(\"-\", \"\")}_version`;\n",
       "      return (VEGA_DEBUG[key] == version) ?\n",
       "        Promise.resolve(paths[lib]) :\n",
       "        new Promise(function(resolve, reject) {\n",
       "          var s = document.createElement('script');\n",
       "          document.getElementsByTagName(\"head\")[0].appendChild(s);\n",
       "          s.async = true;\n",
       "          s.onload = () => {\n",
       "            VEGA_DEBUG[key] = version;\n",
       "            return resolve(paths[lib]);\n",
       "          };\n",
       "          s.onerror = () => reject(`Error loading script: ${paths[lib]}`);\n",
       "          s.src = paths[lib];\n",
       "        });\n",
       "    }\n",
       "\n",
       "    function showError(err) {\n",
       "      outputDiv.innerHTML = `<div class=\"error\" style=\"color:red;\">${err}</div>`;\n",
       "      throw err;\n",
       "    }\n",
       "\n",
       "    function displayChart(vegaEmbed) {\n",
       "      vegaEmbed(outputDiv, spec, embedOpt)\n",
       "        .catch(err => showError(`Javascript Error: ${err.message}<br>This usually means there's a typo in your chart specification. See the javascript console for the full traceback.`));\n",
       "    }\n",
       "\n",
       "    if(typeof define === \"function\" && define.amd) {\n",
       "      requirejs.config({paths});\n",
       "      require([\"vega-embed\"], displayChart, err => showError(`Error loading script: ${err.message}`));\n",
       "    } else {\n",
       "      maybeLoadScript(\"vega\", \"5\")\n",
       "        .then(() => maybeLoadScript(\"vega-lite\", \"4.17.0\"))\n",
       "        .then(() => maybeLoadScript(\"vega-embed\", \"6\"))\n",
       "        .catch(showError)\n",
       "        .then(() => displayChart(vegaEmbed));\n",
       "    }\n",
       "  })({\"config\": {\"view\": {\"continuousWidth\": 400, \"continuousHeight\": 300}}, \"data\": {\"url\": \"http://localhost:20081/859c647d6d0e8afa5b8660972f549caf.json\"}, \"mark\": \"bar\", \"encoding\": {\"color\": {\"field\": \"variable\", \"legend\": {\"title\": \"Sales per region\"}, \"type\": \"nominal\"}, \"x\": {\"field\": \"value\", \"title\": \"Sales\", \"type\": \"quantitative\"}, \"y\": {\"field\": \"platform\", \"type\": \"ordinal\"}}, \"$schema\": \"https://vega.github.io/schema/vega-lite/v4.17.0.json\"}, {\"mode\": \"vega-lite\"});\n",
       "</script>"
      ],
      "text/plain": [
       "alt.Chart(...)"
      ]
     },
     "execution_count": 18,
     "metadata": {},
     "output_type": "execute_result"
    }
   ],
   "source": [
    "sales_platform = []\n",
    "col = ['NA_Sales', 'EU_Sales', 'JP_Sales', 'Other_Sales']\n",
    "platforms = data['Platform'].unique()\n",
    "for platform in platforms:\n",
    "    sales = data[col][data['Platform']==platform].sum()\n",
    "    platform = pd.Series({\"platform\": platform})\n",
    "    sales_platform.append(pd.concat([sales, platform]))\n",
    "    \n",
    "source = pd.DataFrame(sales_platform).melt(['platform'], col)\n",
    "\n",
    "alt.Chart(source).mark_bar().encode(\n",
    "    alt.Y('platform:O'),    # just changed from x= to this form so we have some nice axis labels\n",
    "    alt.X('value:Q', title=\"Sales\"), # not quite sure if the labels are fitting!\n",
    "    color=alt.Color('variable:N', legend=alt.Legend(title=\"Sales per region\"))\n",
    ")"
   ]
  },
  {
   "cell_type": "code",
   "execution_count": 19,
   "metadata": {},
   "outputs": [
    {
     "data": {
      "text/html": [
       "\n",
       "<div id=\"altair-viz-6760967a3030408caa3d53a0953525c4\"></div>\n",
       "<script type=\"text/javascript\">\n",
       "  var VEGA_DEBUG = (typeof VEGA_DEBUG == \"undefined\") ? {} : VEGA_DEBUG;\n",
       "  (function(spec, embedOpt){\n",
       "    let outputDiv = document.currentScript.previousElementSibling;\n",
       "    if (outputDiv.id !== \"altair-viz-6760967a3030408caa3d53a0953525c4\") {\n",
       "      outputDiv = document.getElementById(\"altair-viz-6760967a3030408caa3d53a0953525c4\");\n",
       "    }\n",
       "    const paths = {\n",
       "      \"vega\": \"https://cdn.jsdelivr.net/npm//vega@5?noext\",\n",
       "      \"vega-lib\": \"https://cdn.jsdelivr.net/npm//vega-lib?noext\",\n",
       "      \"vega-lite\": \"https://cdn.jsdelivr.net/npm//vega-lite@4.17.0?noext\",\n",
       "      \"vega-embed\": \"https://cdn.jsdelivr.net/npm//vega-embed@6?noext\",\n",
       "    };\n",
       "\n",
       "    function maybeLoadScript(lib, version) {\n",
       "      var key = `${lib.replace(\"-\", \"\")}_version`;\n",
       "      return (VEGA_DEBUG[key] == version) ?\n",
       "        Promise.resolve(paths[lib]) :\n",
       "        new Promise(function(resolve, reject) {\n",
       "          var s = document.createElement('script');\n",
       "          document.getElementsByTagName(\"head\")[0].appendChild(s);\n",
       "          s.async = true;\n",
       "          s.onload = () => {\n",
       "            VEGA_DEBUG[key] = version;\n",
       "            return resolve(paths[lib]);\n",
       "          };\n",
       "          s.onerror = () => reject(`Error loading script: ${paths[lib]}`);\n",
       "          s.src = paths[lib];\n",
       "        });\n",
       "    }\n",
       "\n",
       "    function showError(err) {\n",
       "      outputDiv.innerHTML = `<div class=\"error\" style=\"color:red;\">${err}</div>`;\n",
       "      throw err;\n",
       "    }\n",
       "\n",
       "    function displayChart(vegaEmbed) {\n",
       "      vegaEmbed(outputDiv, spec, embedOpt)\n",
       "        .catch(err => showError(`Javascript Error: ${err.message}<br>This usually means there's a typo in your chart specification. See the javascript console for the full traceback.`));\n",
       "    }\n",
       "\n",
       "    if(typeof define === \"function\" && define.amd) {\n",
       "      requirejs.config({paths});\n",
       "      require([\"vega-embed\"], displayChart, err => showError(`Error loading script: ${err.message}`));\n",
       "    } else {\n",
       "      maybeLoadScript(\"vega\", \"5\")\n",
       "        .then(() => maybeLoadScript(\"vega-lite\", \"4.17.0\"))\n",
       "        .then(() => maybeLoadScript(\"vega-embed\", \"6\"))\n",
       "        .catch(showError)\n",
       "        .then(() => displayChart(vegaEmbed));\n",
       "    }\n",
       "  })({\"config\": {\"view\": {\"continuousWidth\": 400, \"continuousHeight\": 300}}, \"data\": {\"url\": \"http://localhost:20081/43e4b637812cec2e397d48eba6bf20d5.json\"}, \"mark\": \"bar\", \"encoding\": {\"x\": {\"field\": \"value\", \"title\": \"Critic_Score\", \"type\": \"quantitative\"}, \"y\": {\"field\": \"platform\", \"type\": \"ordinal\"}}, \"title\": \"critic score per platform\", \"$schema\": \"https://vega.github.io/schema/vega-lite/v4.17.0.json\"}, {\"mode\": \"vega-lite\"});\n",
       "</script>"
      ],
      "text/plain": [
       "alt.Chart(...)"
      ]
     },
     "execution_count": 19,
     "metadata": {},
     "output_type": "execute_result"
    }
   ],
   "source": [
    "critic_score_platform = []\n",
    "col = ['Critic_Score']\n",
    "platforms = c_data['Platform'].unique()\n",
    "for platform in platforms:\n",
    "    weights = c_data.Critic_Count[c_data['Platform']==platform] # get the User Counts as weights\n",
    "    Critic_Score = c_data[col][c_data['Platform']==platform] # get all relevant Critic scores\n",
    "    Critic_Score = (Critic_Score.multiply(weights, axis=\"index\")/data.Critic_Count.sum()).mean()\n",
    "    platform = pd.Series({\"platform\": platform})\n",
    "    critic_score_platform.append(pd.concat([Critic_Score, platform]))\n",
    "    \n",
    "source = pd.DataFrame(critic_score_platform).melt(['platform'], col)\n",
    "\n",
    "alt.Chart(source).mark_bar().encode(\n",
    "    alt.Y('platform:O'),    # just changed from x= to this form so we have some nice axis labels\n",
    "    alt.X('value:Q', title=\"Critic_Score\"),\n",
    ").properties(title=\"critic score per platform\")"
   ]
  },
  {
   "cell_type": "code",
   "execution_count": 20,
   "metadata": {},
   "outputs": [
    {
     "data": {
      "text/html": [
       "\n",
       "<div id=\"altair-viz-9ba2061f183e449f9390cbd4f7ccffa8\"></div>\n",
       "<script type=\"text/javascript\">\n",
       "  var VEGA_DEBUG = (typeof VEGA_DEBUG == \"undefined\") ? {} : VEGA_DEBUG;\n",
       "  (function(spec, embedOpt){\n",
       "    let outputDiv = document.currentScript.previousElementSibling;\n",
       "    if (outputDiv.id !== \"altair-viz-9ba2061f183e449f9390cbd4f7ccffa8\") {\n",
       "      outputDiv = document.getElementById(\"altair-viz-9ba2061f183e449f9390cbd4f7ccffa8\");\n",
       "    }\n",
       "    const paths = {\n",
       "      \"vega\": \"https://cdn.jsdelivr.net/npm//vega@5?noext\",\n",
       "      \"vega-lib\": \"https://cdn.jsdelivr.net/npm//vega-lib?noext\",\n",
       "      \"vega-lite\": \"https://cdn.jsdelivr.net/npm//vega-lite@4.17.0?noext\",\n",
       "      \"vega-embed\": \"https://cdn.jsdelivr.net/npm//vega-embed@6?noext\",\n",
       "    };\n",
       "\n",
       "    function maybeLoadScript(lib, version) {\n",
       "      var key = `${lib.replace(\"-\", \"\")}_version`;\n",
       "      return (VEGA_DEBUG[key] == version) ?\n",
       "        Promise.resolve(paths[lib]) :\n",
       "        new Promise(function(resolve, reject) {\n",
       "          var s = document.createElement('script');\n",
       "          document.getElementsByTagName(\"head\")[0].appendChild(s);\n",
       "          s.async = true;\n",
       "          s.onload = () => {\n",
       "            VEGA_DEBUG[key] = version;\n",
       "            return resolve(paths[lib]);\n",
       "          };\n",
       "          s.onerror = () => reject(`Error loading script: ${paths[lib]}`);\n",
       "          s.src = paths[lib];\n",
       "        });\n",
       "    }\n",
       "\n",
       "    function showError(err) {\n",
       "      outputDiv.innerHTML = `<div class=\"error\" style=\"color:red;\">${err}</div>`;\n",
       "      throw err;\n",
       "    }\n",
       "\n",
       "    function displayChart(vegaEmbed) {\n",
       "      vegaEmbed(outputDiv, spec, embedOpt)\n",
       "        .catch(err => showError(`Javascript Error: ${err.message}<br>This usually means there's a typo in your chart specification. See the javascript console for the full traceback.`));\n",
       "    }\n",
       "\n",
       "    if(typeof define === \"function\" && define.amd) {\n",
       "      requirejs.config({paths});\n",
       "      require([\"vega-embed\"], displayChart, err => showError(`Error loading script: ${err.message}`));\n",
       "    } else {\n",
       "      maybeLoadScript(\"vega\", \"5\")\n",
       "        .then(() => maybeLoadScript(\"vega-lite\", \"4.17.0\"))\n",
       "        .then(() => maybeLoadScript(\"vega-embed\", \"6\"))\n",
       "        .catch(showError)\n",
       "        .then(() => displayChart(vegaEmbed));\n",
       "    }\n",
       "  })({\"config\": {\"view\": {\"continuousWidth\": 400, \"continuousHeight\": 300}}, \"data\": {\"url\": \"http://localhost:20081/393f16b666f9ae952f50db0b5e734cfb.json\"}, \"mark\": \"bar\", \"encoding\": {\"x\": {\"field\": \"value\", \"title\": \"User_Score weighted by User_Count\", \"type\": \"quantitative\"}, \"y\": {\"field\": \"platform\", \"type\": \"ordinal\"}}, \"title\": \"user_score per platform\", \"$schema\": \"https://vega.github.io/schema/vega-lite/v4.17.0.json\"}, {\"mode\": \"vega-lite\"});\n",
       "</script>"
      ],
      "text/plain": [
       "alt.Chart(...)"
      ]
     },
     "execution_count": 20,
     "metadata": {},
     "output_type": "execute_result"
    }
   ],
   "source": [
    "user_score_platform = []\n",
    "col = ['User_Score']\n",
    "platforms = c_data['Platform'].unique()\n",
    "for platform in platforms:\n",
    "    weights = c_data.User_Count[c_data['Platform']==platform] # get the User Counts as weights\n",
    "    User_Score = c_data[col][c_data['Platform']==platform] # get all relevant User scores\n",
    "    User_Score = (User_Score.multiply(weights, axis=\"index\")/data.User_Count.sum()).mean() # calculate the weighted mean with the weights averaged over the\n",
    "    platform = pd.Series({\"platform\": platform})                                           # the sum of the whole dataset\n",
    "    user_score_platform.append(pd.concat([User_Score, platform]))\n",
    "    \n",
    "source = pd.DataFrame(user_score_platform).melt(['platform'], col)\n",
    "\n",
    "alt.Chart(source).mark_bar().encode(\n",
    "    alt.Y('platform:O'),    # just changed from x= to this form so we have some nice axis labels\n",
    "    alt.X('value:Q', title=\"User_Score weighted by User_Count\"),\n",
    ").properties(title=\"user_score per platform\")"
   ]
  },
  {
   "cell_type": "markdown",
   "metadata": {},
   "source": [
    "# Clustering with feature reduction\n",
    "\n",
    "Finally, we want to cluster our data. Since we have multidimensional data, we perform feature reduction using t-SNE or PCA respectively to cast the data onto 2 dimensions. We consider the features EU/NA/FP/Other Sales, since they are the only numerical features. As categories for the clusters, we selected Genre and Platform."
   ]
  },
  {
   "cell_type": "markdown",
   "metadata": {},
   "source": [
    "<span style=\"color:red\">Most plots of following sections are interactive!</span> To highlight certain categories click on the color point of the legend. With shift-click you can select multiples categories. With the mouse-pointer you can drag and zoom the view. While hovering over one data-point a text-field shows up, which gives you more details."
   ]
  },
  {
   "cell_type": "code",
   "execution_count": 24,
   "metadata": {},
   "outputs": [],
   "source": [
    "from sklearn.preprocessing import StandardScaler\n",
    "from sklearn.decomposition import PCA\n",
    "from sklearn.manifold import TSNE\n",
    "from matplotlib import pyplot as plt\n",
    "\n",
    "features= [\"EU_Sales\", \"NA_Sales\", \"JP_Sales\", \"Other_Sales\"]\n",
    "num_data = data[features].values\n",
    "\n",
    "num_data = StandardScaler().fit_transform(num_data)"
   ]
  },
  {
   "cell_type": "code",
   "execution_count": 25,
   "metadata": {
    "scrolled": false
   },
   "outputs": [
    {
     "data": {
      "application/vnd.jupyter.widget-view+json": {
       "model_id": "8be297b70b844ff790c0ccd271865c08",
       "version_major": 2,
       "version_minor": 0
      },
      "text/plain": [
       "interactive(children=(Dropdown(description='method', options=('pca', 't-sne'), value='pca'), Dropdown(descript…"
      ]
     },
     "metadata": {},
     "output_type": "display_data"
    }
   ],
   "source": [
    "@widgets.interact(method = [\"pca\", \"t-sne\"], category = [\"Genre\", \"Platform\"])\n",
    "\n",
    "def show_plot(method, category):\n",
    "    if method == \"pca\":\n",
    "        pca = PCA(n_components=2)\n",
    "        principalComponents = pca.fit_transform(num_data)\n",
    "        principalDf = pd.DataFrame(data = principalComponents, columns = ['comp1', 'comp2'])\n",
    "        data_col = data[[category, \"Name\"]+features]\n",
    "        principalDf.reset_index(drop=True, inplace=True)\n",
    "        data_col.reset_index(drop=True, inplace=True)\n",
    "        finalDf = pd.concat([principalDf, data_col], axis = 1)\n",
    "    elif method == \"t-sne\":\n",
    "        tsne = TSNE(n_components=2)\n",
    "        tsneComp = tsne.fit_transform(num_data)\n",
    "        tsneDf = pd.DataFrame(data = tsneComp, columns = ['comp1', 'comp2'])\n",
    "        data_col = data[[category, \"Name\"]+features]\n",
    "        tsneDf.reset_index(drop=True, inplace=True)\n",
    "        data_col.reset_index(drop=True, inplace=True)\n",
    "        finalDf = pd.concat([tsneDf, data_col], axis = 1)\n",
    "    \n",
    "    selection = alt.selection_multi(fields=[f'{category}'])\n",
    "    color = alt.condition(selection,alt.Color(f'{category}:N', legend=None),alt.value('lightgray'))\n",
    "    opacity = alt.condition(selection, alt.value(0.7), alt.value(0))\n",
    "    \n",
    "    scatter = alt.Chart(finalDf).mark_circle(size=60).encode(\n",
    "        x=\"comp1\",\n",
    "        y=\"comp2\",\n",
    "        color=color,\n",
    "        opacity=opacity,\n",
    "        tooltip= [\"Name:N\"]+features\n",
    "        ).interactive()\n",
    "    \n",
    "    legend = alt.Chart(finalDf).mark_point().encode(\n",
    "        y=alt.Y(f'{category}:N', axis=alt.Axis(orient='right')),\n",
    "        color=color\n",
    "    ).add_selection(selection)\n",
    "    return scatter | legend"
   ]
  },
  {
   "cell_type": "markdown",
   "metadata": {},
   "source": [
    "## First insights\n",
    "It is easy to see that the second component of PCA separates the Japanese game market from the Western market, which indicates a different purchase and gaming behaviour based on the players' cultures. Positive values lean to higher market share in Japan and negative values to higher market share in the Western market. The first component in the meanwhile shows the magnitude of sales. Lastly, it is clearly visible that European and Northern American gamers have similar preferences in games and the market is very similar.\n",
    "\n",
    "After playing around with the selection tool, we found following deeper insights:"
   ]
  },
  {
   "cell_type": "markdown",
   "metadata": {},
   "source": [
    "- num_data = data[[\"EU_Sales\", \"NA_Sales\", \"JP_Sales\", \"Other_Sales\"]], pca, Genre <br>\n",
    "    comp2 seems to split the data according to their sales, positive means more sales in JP and negative means more Sales in NA/EU (East vs. West) <br>\n",
    "    further away from 0 -> more sales <br>\n",
    "    e.g.: X360 is primarily western oriented, while 3DS caters more to the Japan market. <br>\n",
    "    role-playing seems more dominant in Japan, while shooter are more dominant on the western market <br>\n"
   ]
  },
  {
   "cell_type": "code",
   "execution_count": 26,
   "metadata": {},
   "outputs": [
    {
     "data": {
      "application/vnd.jupyter.widget-view+json": {
       "model_id": "703d83d0d3e045f080573e8607bc686e",
       "version_major": 2,
       "version_minor": 0
      },
      "text/plain": [
       "interactive(children=(Dropdown(description='plot', options=('Genres and Cultures', '3DS vs. X360'), value='Gen…"
      ]
     },
     "metadata": {},
     "output_type": "display_data"
    }
   ],
   "source": [
    "@widgets.interact(plot = [\"Genres and Cultures\", \"3DS vs. X360\"])\n",
    "\n",
    "def show_plot(plot):\n",
    "    if plot == \"Genres and Cultures\":\n",
    "        category = \"Genre\"\n",
    "    if plot == \"3DS vs. X360\":\n",
    "        category = \"Platform\"\n",
    "        \n",
    "    pca = PCA(n_components=2)\n",
    "    principalComponents = pca.fit_transform(num_data)\n",
    "    principalDf = pd.DataFrame(data = principalComponents, columns = ['comp1', 'comp2'])\n",
    "    data_col = data[[category, \"Name\"]+features]\n",
    "    principalDf.reset_index(drop=True, inplace=True)\n",
    "    data_col.reset_index(drop=True, inplace=True)\n",
    "    finalDf = pd.concat([principalDf, data_col], axis = 1)\n",
    "    \n",
    "    if plot == \"Genres and Cultures\":\n",
    "        finalDf = finalDf.loc[(finalDf[\"Genre\"] == \"Shooter\") | (finalDf[\"Genre\"] == \"Role-Playing\")]\n",
    "    if plot == \"3DS vs. X360\":\n",
    "        finalDf = finalDf.loc[(finalDf[\"Platform\"] == \"3DS\") | (finalDf[\"Platform\"] == \"X360\")]\n",
    "        \n",
    "    color = alt.Color(f'{category}:N', legend=None)\n",
    "    \n",
    "    scatter = alt.Chart(finalDf).mark_circle(size=60).encode(\n",
    "        x=\"comp1\",\n",
    "        y=\"comp2\",\n",
    "        color=color,\n",
    "        tooltip= [\"Name:N\"]+features\n",
    "        ).interactive()\n",
    "    \n",
    "    legend = alt.Chart(finalDf).mark_point().encode(\n",
    "        y=alt.Y(f'{category}:N', axis=alt.Axis(orient='right')),\n",
    "        color=color\n",
    "    )\n",
    "    return scatter | legend"
   ]
  },
  {
   "cell_type": "code",
   "execution_count": 27,
   "metadata": {},
   "outputs": [
    {
     "data": {
      "application/vnd.jupyter.widget-view+json": {
       "model_id": "80a85f0455a3464497337b1faa2e3faa",
       "version_major": 2,
       "version_minor": 0
      },
      "text/plain": [
       "interactive(children=(Dropdown(description='dimension', options=('pca', 't-sne'), value='pca'), Dropdown(descr…"
      ]
     },
     "metadata": {},
     "output_type": "display_data"
    }
   ],
   "source": [
    "from sklearn.cluster import KMeans\n",
    "import sklearn.model_selection\n",
    "from sklearn.tree import DecisionTreeClassifier\n",
    "from sklearn import manifold\n",
    "\n",
    "@widgets.interact(dimension = [\"pca\", \"t-sne\"],\n",
    "                  clustering = [\"k-means\", \"decision_trees\"],\n",
    "                  target_dt = [\"Genre\", \"Platform\", \"Rating\", \"Global_Sales\"],\n",
    "                  n_cluster_kmeans = widgets.BoundedIntText(min=2,max=7))\n",
    "def show_plot(dimension, clustering, target_dt, n_cluster_kmeans): \n",
    "    \n",
    "    features= [\"Platform\", \"Year_of_Release\", 'Genre', \"Global_Sales\", \"NA_Sales\", \"EU_Sales\", \"JP_Sales\", \"Other_Sales\", \"Rating\", \"Critic_Score\",\n",
    "           \"User_Score\", \"Critic_Count\", \"User_Count\"] # excluded Name, Publisher, Developer\n",
    "    a_features= [\"Platform:N\", \"Year_of_Release:O\", 'Genre:N', \"Global_Sales:Q\", \"NA_Sales:Q\", \"EU_Sales:Q\", \"JP_Sales:Q\", \"Other_Sales:Q\", \"Rating:N\", \"Critic_Score:Q\",\n",
    "           \"User_Score:Q\", \"Critic_Count:Q\", \"User_Count:Q\"]\n",
    "    \n",
    "    if clustering == \"k-means\":\n",
    "        encoded_data = pd.get_dummies(data[features])\n",
    "        pred = KMeans(n_clusters=n_cluster_kmeans, random_state=7).fit_predict(encoded_data)\n",
    "        r_data = data\n",
    "    \n",
    "    elif clustering == \"decision_trees\":\n",
    "        \n",
    "        encoded_data = pd.get_dummies(c_data[[x for x in features if x!=target_dt]])\n",
    "        instance = DecisionTreeClassifier()\n",
    "        r = instance.fit(encoded_data, c_data[target_dt])\n",
    "        pred = instance.predict(encoded_data)\n",
    "        r_data = c_data\n",
    "        \n",
    "    if dimension == \"pca\":\n",
    "        pca = PCA(n_components=2, random_state=7)\n",
    "        principalComponents = pca.fit_transform(encoded_data)\n",
    "        principalDf = pd.DataFrame(data = principalComponents, columns = ['comp1', 'comp2'])\n",
    "        data_col = r_data[[\"Name\"]+features]\n",
    "        principalDf.reset_index(drop=True, inplace=True)\n",
    "        data_col.reset_index(drop=True, inplace=True)\n",
    "        finalDf = pd.concat([principalDf, data_col], axis = 1)\n",
    "        \n",
    "    elif dimension == \"t-sne\":\n",
    "        tsne = TSNE(n_components=2, random_state=7, n_jobs=4)\n",
    "        tsneComp = tsne.fit_transform(encoded_data)\n",
    "        tsneDf = pd.DataFrame(data = tsneComp, columns = ['comp1', 'comp2'])\n",
    "        data_col = r_data[[\"Name\"]+features]\n",
    "        tsneDf.reset_index(drop=True, inplace=True)\n",
    "        data_col.reset_index(drop=True, inplace=True)\n",
    "        finalDf = pd.concat([tsneDf, data_col], axis = 1)    \n",
    "        \n",
    "    finalDf[\"predict\"]=pred\n",
    "    \n",
    "    selection = alt.selection_multi(fields=[\"predict\"])\n",
    "    color = alt.condition(selection,alt.Color(\"predict:N\", legend=None),alt.value('lightgray'))\n",
    "    opacity = alt.condition(selection, alt.value(0.7), alt.value(0))\n",
    "        \n",
    "    scatter = alt.Chart(finalDf).mark_circle(size=60).encode(\n",
    "        x=\"comp1\",\n",
    "        y=\"comp2\",\n",
    "        color=color,\n",
    "        opacity=opacity,\n",
    "        tooltip= [\"Name:N\"]+a_features\n",
    "        ).interactive()\n",
    "    \n",
    "    legend = alt.Chart(finalDf).mark_point().encode(\n",
    "        y=alt.Y('predict:N', axis=alt.Axis(orient='right')),\n",
    "        color=color\n",
    "    ).add_selection(selection)\n",
    "    return scatter | legend"
   ]
  },
  {
   "cell_type": "markdown",
   "metadata": {},
   "source": [
    "Above tool can be used to look at different down-projections and differen clustering methods (carefull, can take some time). Sadly we couldn't find good settings to get deeper insights, which is partly connected with the fact, that the methods are not complex enough."
   ]
  },
  {
   "cell_type": "markdown",
   "metadata": {},
   "source": [
    "### 1. Genres of games in different countries\n",
    "\n",
    "Due to either cultural preferences or different marketing targeting, Shooter games are prevalent in the Western market, while Role-Playing games dominate the Japanese market.\n",
    "\n",
    "### 2. Different adaption of gaming consoles\n",
    "\n",
    "There is a big difference in the market share of some consoles depending on the market. Particularly outstanding is the difference in adoption of the Nintendo 3DS and the Microsoft XBOX 360. This might be due to the Origin of the consoles (Japan vs. USA) or the marketing in the respective countries."
   ]
  },
  {
   "cell_type": "code",
   "execution_count": null,
   "metadata": {},
   "outputs": [],
   "source": []
  }
 ],
 "metadata": {
  "kernelspec": {
   "display_name": "Python 3 (ipykernel)",
   "language": "python",
   "name": "python3"
  },
  "language_info": {
   "codemirror_mode": {
    "name": "ipython",
    "version": 3
   },
   "file_extension": ".py",
   "mimetype": "text/x-python",
   "name": "python",
   "nbconvert_exporter": "python",
   "pygments_lexer": "ipython3",
   "version": "3.9.12"
  }
 },
 "nbformat": 4,
 "nbformat_minor": 4
}
